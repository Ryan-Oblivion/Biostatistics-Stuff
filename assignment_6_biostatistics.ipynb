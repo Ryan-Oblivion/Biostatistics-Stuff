{
 "cells": [
  {
   "cell_type": "raw",
   "id": "be433d3d",
   "metadata": {},
   "source": [
    "# netid: rj931\n",
    "# ryan johnson\n",
    "# biostatistics assignment 6"
   ]
  },
  {
   "cell_type": "code",
   "execution_count": 1,
   "id": "34e88e94",
   "metadata": {},
   "outputs": [],
   "source": [
    "wh <- read.csv('weight-height.csv.gz')\n",
    "# first i want to put my data into a variable called wh using read.csv\n",
    "\n",
    "get_20_sample <- wh[sample(nrow(wh),20),]\n",
    "# here i choose the to randomly sample the rows of the dataset and chose\n",
    "# 20 random samples, then put that into a new variable called get_20_sample\n",
    "\n",
    "#which(get_20_sample== 'Male')"
   ]
  },
  {
   "cell_type": "code",
   "execution_count": 2,
   "id": "1c493e8a",
   "metadata": {},
   "outputs": [
    {
     "data": {
      "text/html": [
       "<ol class=list-inline>\n",
       "\t<li>13</li>\n",
       "\t<li>13</li>\n",
       "\t<li>9</li>\n",
       "\t<li>12</li>\n",
       "\t<li>11</li>\n",
       "\t<li>10</li>\n",
       "\t<li>8</li>\n",
       "\t<li>12</li>\n",
       "\t<li>10</li>\n",
       "\t<li>10</li>\n",
       "</ol>\n"
      ],
      "text/latex": [
       "\\begin{enumerate*}\n",
       "\\item 13\n",
       "\\item 13\n",
       "\\item 9\n",
       "\\item 12\n",
       "\\item 11\n",
       "\\item 10\n",
       "\\item 8\n",
       "\\item 12\n",
       "\\item 10\n",
       "\\item 10\n",
       "\\end{enumerate*}\n"
      ],
      "text/markdown": [
       "1. 13\n",
       "2. 13\n",
       "3. 9\n",
       "4. 12\n",
       "5. 11\n",
       "6. 10\n",
       "7. 8\n",
       "8. 12\n",
       "9. 10\n",
       "10. 10\n",
       "\n",
       "\n"
      ],
      "text/plain": [
       " [1] 13 13  9 12 11 10  8 12 10 10"
      ]
     },
     "metadata": {},
     "output_type": "display_data"
    },
    {
     "data": {
      "text/html": [
       "<ol class=list-inline>\n",
       "\t<li>7</li>\n",
       "\t<li>7</li>\n",
       "\t<li>11</li>\n",
       "\t<li>8</li>\n",
       "\t<li>9</li>\n",
       "\t<li>10</li>\n",
       "\t<li>12</li>\n",
       "\t<li>8</li>\n",
       "\t<li>10</li>\n",
       "\t<li>10</li>\n",
       "</ol>\n"
      ],
      "text/latex": [
       "\\begin{enumerate*}\n",
       "\\item 7\n",
       "\\item 7\n",
       "\\item 11\n",
       "\\item 8\n",
       "\\item 9\n",
       "\\item 10\n",
       "\\item 12\n",
       "\\item 8\n",
       "\\item 10\n",
       "\\item 10\n",
       "\\end{enumerate*}\n"
      ],
      "text/markdown": [
       "1. 7\n",
       "2. 7\n",
       "3. 11\n",
       "4. 8\n",
       "5. 9\n",
       "6. 10\n",
       "7. 12\n",
       "8. 8\n",
       "9. 10\n",
       "10. 10\n",
       "\n",
       "\n"
      ],
      "text/plain": [
       " [1]  7  7 11  8  9 10 12  8 10 10"
      ]
     },
     "metadata": {},
     "output_type": "display_data"
    },
    {
     "data": {
      "text/html": [
       "<table>\n",
       "<thead><tr><th scope=col>sample_M</th><th scope=col>sample_F</th></tr></thead>\n",
       "<tbody>\n",
       "\t<tr><td>13</td><td> 7</td></tr>\n",
       "\t<tr><td>13</td><td> 7</td></tr>\n",
       "\t<tr><td> 9</td><td>11</td></tr>\n",
       "\t<tr><td>12</td><td> 8</td></tr>\n",
       "\t<tr><td>11</td><td> 9</td></tr>\n",
       "\t<tr><td>10</td><td>10</td></tr>\n",
       "\t<tr><td> 8</td><td>12</td></tr>\n",
       "\t<tr><td>12</td><td> 8</td></tr>\n",
       "\t<tr><td>10</td><td>10</td></tr>\n",
       "\t<tr><td>10</td><td>10</td></tr>\n",
       "</tbody>\n",
       "</table>\n"
      ],
      "text/latex": [
       "\\begin{tabular}{r|ll}\n",
       " sample\\_M & sample\\_F\\\\\n",
       "\\hline\n",
       "\t 13 &  7\\\\\n",
       "\t 13 &  7\\\\\n",
       "\t  9 & 11\\\\\n",
       "\t 12 &  8\\\\\n",
       "\t 11 &  9\\\\\n",
       "\t 10 & 10\\\\\n",
       "\t  8 & 12\\\\\n",
       "\t 12 &  8\\\\\n",
       "\t 10 & 10\\\\\n",
       "\t 10 & 10\\\\\n",
       "\\end{tabular}\n"
      ],
      "text/markdown": [
       "\n",
       "| sample_M | sample_F |\n",
       "|---|---|\n",
       "| 13 |  7 |\n",
       "| 13 |  7 |\n",
       "|  9 | 11 |\n",
       "| 12 |  8 |\n",
       "| 11 |  9 |\n",
       "| 10 | 10 |\n",
       "|  8 | 12 |\n",
       "| 12 |  8 |\n",
       "| 10 | 10 |\n",
       "| 10 | 10 |\n",
       "\n"
      ],
      "text/plain": [
       "   sample_M sample_F\n",
       "1  13        7      \n",
       "2  13        7      \n",
       "3   9       11      \n",
       "4  12        8      \n",
       "5  11        9      \n",
       "6  10       10      \n",
       "7   8       12      \n",
       "8  12        8      \n",
       "9  10       10      \n",
       "10 10       10      "
      ]
     },
     "metadata": {},
     "output_type": "display_data"
    },
    {
     "data": {
      "text/plain": [
       "\n",
       "\tPearson's Chi-squared test\n",
       "\n",
       "data:  sample_MF_df\n",
       "X-squared = 5.153, df = 9, p-value = 0.8208\n"
      ]
     },
     "metadata": {},
     "output_type": "display_data"
    }
   ],
   "source": [
    "# number 1a\n",
    "\n",
    "\n",
    "i <- 0\n",
    "# before i start my while loop i want to initialize a variable i to be 0\n",
    "\n",
    "sample_M <- c()\n",
    "# i want to create an empty set where i can put the number of males the\n",
    "# sample gave back \n",
    "\n",
    "sample_F <- c()\n",
    "# here i do the same for how many females were given by the sample of 20\n",
    "\n",
    "while (i < 10) {\n",
    "    # first i want the while loop to run 10 times\n",
    "    # this allows me to get 10 different samples of 20\n",
    "    \n",
    "    get_20_sample <- wh[sample(nrow(wh),20),]\n",
    "    # i then run my code from the cell above where i tested it \n",
    "    \n",
    "    sample_M <- append(sample_M,length(which(get_20_sample== 'Male')))\n",
    "    # once the random 20 are choosen, i find which ones are male\n",
    "    # then take the length of it to find how many were male\n",
    "    # then i append it to my sample_M variable\n",
    "    \n",
    "    sample_F <- append(sample_F,length(which(get_20_sample== 'Female')))\n",
    "    # this line of code does the same thing but for females\n",
    "    \n",
    "    i <- i+1\n",
    "    # and now i incriment i so it runs this loop again with a different \n",
    "    # sample of 20 people\n",
    "}\n",
    "sample_M\n",
    "sample_F\n",
    "# i print both the sets to show how many in the 1st through 10th were\n",
    "# male on the top, or female on the bottom\n",
    "\n",
    "sample_MF_df <- data.frame(sample_M,sample_F)\n",
    "sample_MF_df\n",
    "# here i wanted to put both samples into a dataframe called sample_MF_df\n",
    "\n",
    "chisq.test(sample_MF_df)\n",
    "# now i can run the chi-square test on this dataframe\n",
    "\n",
    "# with chisq p-values higher than 0.05, most of the time\n",
    "# i would say that i can accept \n",
    "# the null hypothesis. this means that half the population is men\n",
    "# since my p-value is greater than 0.05 majority of the time."
   ]
  },
  {
   "cell_type": "code",
   "execution_count": 57,
   "id": "a1faca08",
   "metadata": {},
   "outputs": [
    {
     "name": "stdout",
     "output_type": "stream",
     "text": [
      "the pvalue for the  40  sample is  0.8068547 \n",
      "the pvalue for the  60  sample is  0.1477597 \n",
      "the pvalue for the  80  sample is  0.2952171 \n",
      "the pvalue for the  100  sample is  0.9969644 \n"
     ]
    }
   ],
   "source": [
    "# number 1b\n",
    "\n",
    "i <- 0\n",
    "# initilizing my i to be 0\n",
    "\n",
    "n <- c(40,60,80,100)\n",
    "# making a list of different random samples i would like to use \n",
    "\n",
    "sample_M <- c()\n",
    "sample_F <- c()\n",
    "# appending them to my empty lists later in the while loop \n",
    "\n",
    "for (x in n){\n",
    "    # the for loop goes through the n list to select the current number\n",
    "    # i want to use as a sample\n",
    "    \n",
    "    while (i < 10) {\n",
    "    # using the while loop to get 10 different samples \n",
    "    # with the same sample number \n",
    "    \n",
    "    get_x_sample <- wh[sample(nrow(wh),x),]\n",
    "    # running a random sample with the current value the for loop is on\n",
    "        \n",
    "    sample_M <- append(sample_M,length(which(get_x_sample== 'Male')))\n",
    "    sample_F <- append(sample_F,length(which(get_x_sample== 'Female')))\n",
    "    # appending how many males and females showed up in each sample\n",
    "    # to their respective empty lists\n",
    "        \n",
    "    i <- i+1\n",
    "    # incrementing the i value by 1 so i can get more data on the same \n",
    "    # sample number\n",
    "    \n",
    "    }\n",
    "i <- 0\n",
    "\n",
    "# makine i 0 after the current sample number changes so i can start at\n",
    "# 0 for the next number in n\n",
    "    \n",
    "sample_MF_df <- data.frame(sample_M,sample_F)\n",
    "# making a dataframe to be able to run a chisq test easily\n",
    "#print(sample_MF_df)\n",
    "\n",
    "\n",
    "      \n",
    "#print(chisq.test(sample_MF_df)$p.value)\n",
    "\n",
    "cat('the pvalue for the ',x, ' sample is ', \n",
    "    chisq.test(sample_MF_df)$p.value, '\\n' )\n",
    "# running the chisq test to extract the p-value for each sample \n",
    "# size before the for loop starts on the next sample size\n",
    "\n",
    "sample_M <- NULL\n",
    "sample_F <- NULL\n",
    "# since i have to reuse the same variable that i append to, i need\n",
    "# to empty it again so the new values are the only ones that are in \n",
    "# the list for each sample size\n",
    "\n",
    "    \n",
    "}\n",
    "\n"
   ]
  },
  {
   "cell_type": "code",
   "execution_count": 59,
   "id": "b075b697",
   "metadata": {},
   "outputs": [],
   "source": [
    "# number 1c\n",
    "# for number 1c its the same code but only slightly changed to get 100\n",
    "# extra p-values for each sample size so i can average them out \n",
    "# to have a more stable representation of what the p-value would \n",
    "# actually be\n",
    "\n",
    "k <- 0\n",
    "# i introduced a k incriment so i can do a new while loop over my other \n",
    "# code \n",
    "\n",
    "i <- 0\n",
    "n <- c(5,40,60,80,100)\n",
    "sample_M <- c()\n",
    "sample_F <- c()\n",
    "\n",
    "chi_pval_40 <- c()\n",
    "chi_pval_60<- c()\n",
    "chi_pval_80<- c()\n",
    "chi_pval_100<- c()\n",
    "# then i introduced 4 new variables to store all 100 p-values for each \n",
    "# sample size\n",
    "\n",
    "while (k <100){\n",
    "    # this while loop will run my previous code in its entirety 100 times\n",
    "    # i commented the next part of this code above in the previous cell\n",
    "    for (x in n){\n",
    "    \n",
    "    while (i < 10) {\n",
    "    get_x_sample <- wh[sample(nrow(wh),x),]\n",
    "    \n",
    "    sample_M <- append(sample_M,length(which(get_x_sample== 'Male')))\n",
    "    sample_F <- append(sample_F,length(which(get_x_sample== 'Female')))\n",
    "    \n",
    "    i <- i+1\n",
    "    \n",
    "    }\n",
    "    i <- 0\n",
    "\n",
    "\n",
    "    \n",
    "    sample_MF_df <- data.frame(sample_M,sample_F)\n",
    "    #print(sample_MF_df)\n",
    "\n",
    "\n",
    "      \n",
    "    #print(chisq.test(sample_MF_df))\n",
    "\n",
    "    sample_M <- NULL\n",
    "    sample_F <- NULL\n",
    "\n",
    "    \n",
    "    # below are 4 if statements that run inside of the for loop.\n",
    "    # if the conditions in the for loop are met then this code will\n",
    "    # append the data to its respective empty list\n",
    "    # so if the for loop is currently on using 40 as the sample size\n",
    "    # all the p-values generated for the sample size of 40 will \n",
    "    # be appended to the variable called chi_pval_40\n",
    "    if (x == 40){\n",
    "    chi_pval_40 <- append(chi_pval_40,chisq.test(sample_MF_df)$p.value)\n",
    "    \n",
    "    }\n",
    "    if (x == 60){\n",
    "    chi_pval_60 <- append(chi_pval_60, chisq.test(sample_MF_df)$p.value)\n",
    "    }\n",
    "    if (x== 80){\n",
    "    chi_pval_80 <- append(chi_pval_80,chisq.test(sample_MF_df)$p.value)\n",
    "    }\n",
    "    if (x== 100){\n",
    "    chi_pval_100 <- append(chi_pval_100,chisq.test(sample_MF_df)$p.value)\n",
    "    }\n",
    "    }\n",
    "    \n",
    "    k <- k+1\n",
    "    # then i increment k by +1 until k is 100\n",
    "    # results in the next cell\n",
    "}"
   ]
  },
  {
   "cell_type": "code",
   "execution_count": 60,
   "id": "c6b40ed3",
   "metadata": {},
   "outputs": [
    {
     "data": {
      "text/html": [
       "100"
      ],
      "text/latex": [
       "100"
      ],
      "text/markdown": [
       "100"
      ],
      "text/plain": [
       "[1] 100"
      ]
     },
     "metadata": {},
     "output_type": "display_data"
    },
    {
     "data": {
      "text/html": [
       "0.530771641719053"
      ],
      "text/latex": [
       "0.530771641719053"
      ],
      "text/markdown": [
       "0.530771641719053"
      ],
      "text/plain": [
       "[1] 0.5307716"
      ]
     },
     "metadata": {},
     "output_type": "display_data"
    },
    {
     "data": {
      "text/html": [
       "0.518125881538739"
      ],
      "text/latex": [
       "0.518125881538739"
      ],
      "text/markdown": [
       "0.518125881538739"
      ],
      "text/plain": [
       "[1] 0.5181259"
      ]
     },
     "metadata": {},
     "output_type": "display_data"
    },
    {
     "data": {
      "text/html": [
       "0.500982810465417"
      ],
      "text/latex": [
       "0.500982810465417"
      ],
      "text/markdown": [
       "0.500982810465417"
      ],
      "text/plain": [
       "[1] 0.5009828"
      ]
     },
     "metadata": {},
     "output_type": "display_data"
    },
    {
     "data": {
      "text/html": [
       "0.476346841196903"
      ],
      "text/latex": [
       "0.476346841196903"
      ],
      "text/markdown": [
       "0.476346841196903"
      ],
      "text/plain": [
       "[1] 0.4763468"
      ]
     },
     "metadata": {},
     "output_type": "display_data"
    },
    {
     "data": {
      "text/html": [
       "0.004"
      ],
      "text/latex": [
       "0.004"
      ],
      "text/markdown": [
       "0.004"
      ],
      "text/plain": [
       "[1] 0.004"
      ]
     },
     "metadata": {},
     "output_type": "display_data"
    }
   ],
   "source": [
    "# number 1c continued\n",
    "length(chi_pval_40)\n",
    "# i wanted to confirm that i do infact have 100 p-values in each \n",
    "# variable by calling length on them.\n",
    "\n",
    "mean(chi_pval_40)\n",
    "mean(chi_pval_60)\n",
    "mean(chi_pval_80)\n",
    "mean(chi_pval_100)\n",
    "# next i wanted to take the mean of all 100 p-values in each list\n",
    "# to see a more reliable pvalue generated for each sample size using \n",
    "# chisq test\n",
    "\n",
    "# i wanted to get multiple chi square p-vales for each sample size\n",
    "# so i decided to sample 40 individuals and get the p-value for that\n",
    "# up to 100 times. then i did the same for sample 60,80,100.\n",
    "# after putting 100 p-values into a list i took the mean of them,\n",
    "# to figure out average p-value that returns for each sample size\n",
    "# i see that the average chisq p-values are all over 0.05\n",
    "# so i assume this means that i only needed to sample 40 people to get \n",
    "# a reliable estimate for the fraction of males/females in the \n",
    "# weight-height data\n",
    "40/10000\n",
    "# this means i only need .4%  of the total population to produce reliable\n",
    "# estimates"
   ]
  },
  {
   "cell_type": "code",
   "execution_count": 34,
   "id": "d6107477",
   "metadata": {},
   "outputs": [
    {
     "data": {
      "text/html": [
       "32000"
      ],
      "text/latex": [
       "32000"
      ],
      "text/markdown": [
       "32000"
      ],
      "text/plain": [
       "[1] 32000"
      ]
     },
     "metadata": {},
     "output_type": "display_data"
    }
   ],
   "source": [
    "# number 1d\n",
    "\n",
    "8000000*.004\n",
    "\n",
    "# based on the previous part, i realized that i only needed to sample\n",
    "# .4% of the entire popluation to get a reliable estimate of male\n",
    "# to female so, this means i would only need to sample 32000 people\n",
    "# this seems like a reasonable number to achieve"
   ]
  },
  {
   "cell_type": "code",
   "execution_count": 125,
   "id": "e090fe3e",
   "metadata": {},
   "outputs": [],
   "source": [
    "# number 2a\n",
    "diffexpr <- read.csv(\"diffexpr-results_no_p.csv\", header = TRUE,\n",
    "                     row.names = 1)\n",
    "# here i read the file and included the frist row and column as names\n",
    "\n",
    "#length(diffexpr[,1])\n",
    "#length(diffexpr[,1])*.10\n",
    "\n",
    "\n",
    "\n",
    "aboral_expr  <- diffexpr[,c(1:5)]\n",
    "# i got the first 5 columns from the file which contains the gene names\n",
    "# and aboral1- aboral4 expression data\n",
    "\n",
    "oral_expr <- diffexpr[,-c(2:5)]\n",
    "# i removed columns 2-5 to keep columns 1 and 6-9 then passed that to\n",
    "# to a new variable\n",
    "\n",
    "#aboral_expr\n",
    "#oral_expr\n",
    "oral_mean <- c()\n",
    "aboral_mean <- c()\n",
    "# i wated to make empty lists for when i get the mean of each\n",
    "#differentially expressed gene\n",
    "\n",
    "t_test_pvalues <- c()\n",
    "# when i conduct a t-test i want to pass the pvalue into this empty list\n",
    "\n",
    "i  <- 1\n",
    "# i want my incriment to start at 1. i am comparing this number to the \n",
    "# number of rows any data set contains plus 1.\n",
    "\n",
    "while (i < length(oral_expr[,1])+1){\n",
    "    # this while loop starts with i = 1, because i want the loop to \n",
    "    # run for every row there is. the rows start counting at 1\n",
    "    # so i cant have 'i' start at 0\n",
    "    \n",
    "    oral_mean <- append(oral_mean,sum(oral_expr[i,c(2:5)])/4)\n",
    "    aboral_mean <- append(aboral_mean,sum(aboral_expr[i,c(2:5)])/4)\n",
    "    # i got the means for each gene just incase i needed it later\n",
    "    \n",
    "    t_test_pvalues <- append(t_test_pvalues,t.test(oral_expr[i,c(2:5)],\n",
    "                                    aboral_expr[i,c(2:5)])$p.value)\n",
    "    \n",
    "    # i needed to find the p-values for each gene using a t-test\n",
    "    # and appended it to the empty list called 't_test_pvalues'\n",
    "    \n",
    "    i <- i+1\n",
    "    # now i can incriment and do this for the next row\n",
    "}\n",
    "#oral_mean\n",
    "#length(aboral_mean)\n",
    "#sum(oral_expr[5,c(2:5)])/4\n",
    "#oral_expr\n",
    "\n",
    "means <- data.frame(aboral_mean,oral_mean)\n",
    "#means"
   ]
  },
  {
   "cell_type": "code",
   "execution_count": 129,
   "id": "36f4ecd4",
   "metadata": {},
   "outputs": [],
   "source": [
    "sorted_t_test <- sort(t_test_pvalues)\n",
    "#sorted_t_test\n",
    "\n",
    "# i wanted to sort the p_values first to see if i would get a different\n",
    "# result when running fdr. but it seems like i got the same result"
   ]
  },
  {
   "cell_type": "code",
   "execution_count": 78,
   "id": "724d0ce3",
   "metadata": {},
   "outputs": [],
   "source": [
    "?hist"
   ]
  },
  {
   "cell_type": "code",
   "execution_count": 90,
   "id": "a0171401",
   "metadata": {},
   "outputs": [
    {
     "data": {
      "text/html": [
       "<ol class=list-inline>\n",
       "\t<li>1</li>\n",
       "\t<li>2</li>\n",
       "\t<li>3</li>\n",
       "\t<li>4</li>\n",
       "\t<li>5</li>\n",
       "\t<li>6</li>\n",
       "\t<li>7</li>\n",
       "\t<li>8</li>\n",
       "\t<li>9</li>\n",
       "\t<li>10</li>\n",
       "\t<li>11</li>\n",
       "\t<li>12</li>\n",
       "\t<li>13</li>\n",
       "\t<li>14</li>\n",
       "\t<li>15</li>\n",
       "\t<li>16</li>\n",
       "\t<li>17</li>\n",
       "\t<li>18</li>\n",
       "\t<li>19</li>\n",
       "\t<li>20</li>\n",
       "\t<li>21</li>\n",
       "\t<li>22</li>\n",
       "\t<li>23</li>\n",
       "\t<li>24</li>\n",
       "\t<li>25</li>\n",
       "\t<li>26</li>\n",
       "\t<li>27</li>\n",
       "\t<li>28</li>\n",
       "\t<li>29</li>\n",
       "\t<li>30</li>\n",
       "\t<li>31</li>\n",
       "\t<li>32</li>\n",
       "\t<li>33</li>\n",
       "\t<li>34</li>\n",
       "\t<li>35</li>\n",
       "\t<li>36</li>\n",
       "\t<li>37</li>\n",
       "\t<li>38</li>\n",
       "\t<li>39</li>\n",
       "\t<li>40</li>\n",
       "\t<li>41</li>\n",
       "\t<li>42</li>\n",
       "\t<li>43</li>\n",
       "\t<li>44</li>\n",
       "\t<li>45</li>\n",
       "\t<li>46</li>\n",
       "\t<li>47</li>\n",
       "\t<li>48</li>\n",
       "\t<li>49</li>\n",
       "\t<li>50</li>\n",
       "</ol>\n"
      ],
      "text/latex": [
       "\\begin{enumerate*}\n",
       "\\item 1\n",
       "\\item 2\n",
       "\\item 3\n",
       "\\item 4\n",
       "\\item 5\n",
       "\\item 6\n",
       "\\item 7\n",
       "\\item 8\n",
       "\\item 9\n",
       "\\item 10\n",
       "\\item 11\n",
       "\\item 12\n",
       "\\item 13\n",
       "\\item 14\n",
       "\\item 15\n",
       "\\item 16\n",
       "\\item 17\n",
       "\\item 18\n",
       "\\item 19\n",
       "\\item 20\n",
       "\\item 21\n",
       "\\item 22\n",
       "\\item 23\n",
       "\\item 24\n",
       "\\item 25\n",
       "\\item 26\n",
       "\\item 27\n",
       "\\item 28\n",
       "\\item 29\n",
       "\\item 30\n",
       "\\item 31\n",
       "\\item 32\n",
       "\\item 33\n",
       "\\item 34\n",
       "\\item 35\n",
       "\\item 36\n",
       "\\item 37\n",
       "\\item 38\n",
       "\\item 39\n",
       "\\item 40\n",
       "\\item 41\n",
       "\\item 42\n",
       "\\item 43\n",
       "\\item 44\n",
       "\\item 45\n",
       "\\item 46\n",
       "\\item 47\n",
       "\\item 48\n",
       "\\item 49\n",
       "\\item 50\n",
       "\\end{enumerate*}\n"
      ],
      "text/markdown": [
       "1. 1\n",
       "2. 2\n",
       "3. 3\n",
       "4. 4\n",
       "5. 5\n",
       "6. 6\n",
       "7. 7\n",
       "8. 8\n",
       "9. 9\n",
       "10. 10\n",
       "11. 11\n",
       "12. 12\n",
       "13. 13\n",
       "14. 14\n",
       "15. 15\n",
       "16. 16\n",
       "17. 17\n",
       "18. 18\n",
       "19. 19\n",
       "20. 20\n",
       "21. 21\n",
       "22. 22\n",
       "23. 23\n",
       "24. 24\n",
       "25. 25\n",
       "26. 26\n",
       "27. 27\n",
       "28. 28\n",
       "29. 29\n",
       "30. 30\n",
       "31. 31\n",
       "32. 32\n",
       "33. 33\n",
       "34. 34\n",
       "35. 35\n",
       "36. 36\n",
       "37. 37\n",
       "38. 38\n",
       "39. 39\n",
       "40. 40\n",
       "41. 41\n",
       "42. 42\n",
       "43. 43\n",
       "44. 44\n",
       "45. 45\n",
       "46. 46\n",
       "47. 47\n",
       "48. 48\n",
       "49. 49\n",
       "50. 50\n",
       "\n",
       "\n"
      ],
      "text/plain": [
       " [1]  1  2  3  4  5  6  7  8  9 10 11 12 13 14 15 16 17 18 19 20 21 22 23 24 25\n",
       "[26] 26 27 28 29 30 31 32 33 34 35 36 37 38 39 40 41 42 43 44 45 46 47 48 49 50"
      ]
     },
     "metadata": {},
     "output_type": "display_data"
    },
    {
     "data": {
      "image/png": "[encoded data removed]",
      "text/plain": [
       "Plot with title \"Histogram of q_value\""
      ]
     },
     "metadata": {},
     "output_type": "display_data"
    }
   ],
   "source": [
    "# number 2a\n",
    "q_value <- round(sort(p.adjust(sorted_t_test, method=c('fdr'))),2)\n",
    "# here i used the method 'fdr' on the 'sorted_t_test' data, when \n",
    "# performing a p.adjust.\n",
    "# next i sorted the adjusted p-values and rounded them to 2 decimals\n",
    "# and called that the q_value\n",
    "\n",
    "fdr_10p <- which(q_value <= 0.10)\n",
    "# now i am looking to figure out the p-values for the differences\n",
    "# being significant and choose genes at an FDR or 10%\n",
    "fdr_10p\n",
    "\n",
    "hist(q_value, labels = TRUE, xlim = c(0.0,1)) \n",
    "axis(side= 1, at= 0.1)\n",
    "# i only have 50 genes that are below an fdr of 10%"
   ]
  },
  {
   "cell_type": "code",
   "execution_count": 45,
   "id": "5b7cf706",
   "metadata": {},
   "outputs": [
    {
     "data": {
      "text/html": [
       "703"
      ],
      "text/latex": [
       "703"
      ],
      "text/markdown": [
       "703"
      ],
      "text/plain": [
       "[1] 703"
      ]
     },
     "metadata": {},
     "output_type": "display_data"
    }
   ],
   "source": [
    "# number 2b\n",
    "fdr_20p <- which(q_value <= 0.20)\n",
    "#fdr_20p\n",
    "\n",
    "length(fdr_20p)- length(fdr_10p)\n",
    "\n",
    "# i have 703 more genes if i relax FDR to 20%, giving a total of 753"
   ]
  },
  {
   "cell_type": "code",
   "execution_count": 95,
   "id": "bcfce117",
   "metadata": {},
   "outputs": [
    {
     "data": {
      "text/html": [
       "3"
      ],
      "text/latex": [
       "3"
      ],
      "text/markdown": [
       "3"
      ],
      "text/plain": [
       "[1] 3"
      ]
     },
     "metadata": {},
     "output_type": "display_data"
    }
   ],
   "source": [
    "# number 2c\n",
    "\n",
    "bonf_value <- round(sort(p.adjust(t_test_pvalues,\n",
    "                                  method=c('bonferroni'))),2)\n",
    "# here i am using the bonferroni method, on the t_test_pvalues data, and\n",
    "# using p.adjust. i then sort and round to 2 decimal places\n",
    "\n",
    "#bonf_value\n",
    "bon_5p <- which(bonf_value <= 0.05)\n",
    "length(bon_5p)\n",
    "# next i get the length of how many values are less than or equal to \n",
    "# 0.05. \n",
    "\n",
    "\n",
    "# if i use bonferroni correction using the standard 0.05 level of\n",
    "# significance, there are only 3 genes that survive"
   ]
  },
  {
   "cell_type": "code",
   "execution_count": 105,
   "id": "a90fb1eb",
   "metadata": {},
   "outputs": [
    {
     "data": {
      "text/html": [
       "16548"
      ],
      "text/latex": [
       "16548"
      ],
      "text/markdown": [
       "16548"
      ],
      "text/plain": [
       "[1] 16548"
      ]
     },
     "metadata": {},
     "output_type": "display_data"
    }
   ],
   "source": [
    "#diffexpr\n",
    "length(means[,1])"
   ]
  },
  {
   "cell_type": "code",
   "execution_count": 123,
   "id": "71b076b3",
   "metadata": {},
   "outputs": [
    {
     "data": {
      "text/html": [
       "<ol class=list-inline>\n",
       "\t<li>52.714203787251</li>\n",
       "\t<li>54.0180281075413</li>\n",
       "\t<li>54.2130859637279</li>\n",
       "\t<li>54.9326518570296</li>\n",
       "\t<li>56.5132028618884</li>\n",
       "\t<li>59.6991763914983</li>\n",
       "\t<li>65.5095713842592</li>\n",
       "\t<li>65.8319471689102</li>\n",
       "\t<li>65.9132344300959</li>\n",
       "\t<li>71.7988195945856</li>\n",
       "\t<li>72.2017525037024</li>\n",
       "\t<li>74.0382282094455</li>\n",
       "\t<li>76.9440084579552</li>\n",
       "\t<li>88.3552012086402</li>\n",
       "\t<li>104.361067063477</li>\n",
       "\t<li>105.164135770339</li>\n",
       "\t<li>105.882947681082</li>\n",
       "\t<li>107.25531667267</li>\n",
       "\t<li>107.301675517431</li>\n",
       "\t<li>137.083491193345</li>\n",
       "\t<li>160.445636614948</li>\n",
       "\t<li>180.983084386082</li>\n",
       "\t<li>394.253025867771</li>\n",
       "</ol>\n"
      ],
      "text/latex": [
       "\\begin{enumerate*}\n",
       "\\item 52.714203787251\n",
       "\\item 54.0180281075413\n",
       "\\item 54.2130859637279\n",
       "\\item 54.9326518570296\n",
       "\\item 56.5132028618884\n",
       "\\item 59.6991763914983\n",
       "\\item 65.5095713842592\n",
       "\\item 65.8319471689102\n",
       "\\item 65.9132344300959\n",
       "\\item 71.7988195945856\n",
       "\\item 72.2017525037024\n",
       "\\item 74.0382282094455\n",
       "\\item 76.9440084579552\n",
       "\\item 88.3552012086402\n",
       "\\item 104.361067063477\n",
       "\\item 105.164135770339\n",
       "\\item 105.882947681082\n",
       "\\item 107.25531667267\n",
       "\\item 107.301675517431\n",
       "\\item 137.083491193345\n",
       "\\item 160.445636614948\n",
       "\\item 180.983084386082\n",
       "\\item 394.253025867771\n",
       "\\end{enumerate*}\n"
      ],
      "text/markdown": [
       "1. 52.714203787251\n",
       "2. 54.0180281075413\n",
       "3. 54.2130859637279\n",
       "4. 54.9326518570296\n",
       "5. 56.5132028618884\n",
       "6. 59.6991763914983\n",
       "7. 65.5095713842592\n",
       "8. 65.8319471689102\n",
       "9. 65.9132344300959\n",
       "10. 71.7988195945856\n",
       "11. 72.2017525037024\n",
       "12. 74.0382282094455\n",
       "13. 76.9440084579552\n",
       "14. 88.3552012086402\n",
       "15. 104.361067063477\n",
       "16. 105.164135770339\n",
       "17. 105.882947681082\n",
       "18. 107.25531667267\n",
       "19. 107.301675517431\n",
       "20. 137.083491193345\n",
       "21. 160.445636614948\n",
       "22. 180.983084386082\n",
       "23. 394.253025867771\n",
       "\n",
       "\n"
      ],
      "text/plain": [
       " [1]  52.71420  54.01803  54.21309  54.93265  56.51320  59.69918  65.50957\n",
       " [8]  65.83195  65.91323  71.79882  72.20175  74.03823  76.94401  88.35520\n",
       "[15] 104.36107 105.16414 105.88295 107.25532 107.30168 137.08349 160.44564\n",
       "[22] 180.98308 394.25303"
      ]
     },
     "metadata": {},
     "output_type": "display_data"
    }
   ],
   "source": [
    "# number 2d\n",
    "#diffexpr\n",
    "#means\n",
    "i <- 1\n",
    "ratio_mean <- c()\n",
    "while (i < length(means[,1])+1){\n",
    "    # this while loop takes the means from aboral and oral of each gene\n",
    "    # then gets the ratio between the two \n",
    "    ratio_mean <- append(ratio_mean,means[i,1]/ means[i,2])\n",
    "    i <- i+1\n",
    "}\n",
    "#means[1,1]\n",
    "\n",
    "new_ratio <- sort(ratio_mean[-which(ratio_mean == 'Inf')])\n",
    "# first i needed to remove all the values that were \n",
    "# labled 'inf', because that would be included in getting\n",
    "# the values that are above or equal to 50\n",
    "\n",
    "new_ratio[which(new_ratio >= 50)]\n",
    "# here i then was able to properly get the values \n",
    "#above or equal to 50\n",
    "\n",
    "# next i sort the ratios to choose which genes are best fit\n",
    "# i would have to choose the biggest changing gene\n",
    "# there are a few ratios that are 52 and above. i would choose those \n",
    "# genes\n"
   ]
  }
 ],
 "metadata": {
  "kernelspec": {
   "display_name": "R",
   "language": "R",
   "name": "ir"
  },
  "language_info": {
   "codemirror_mode": "r",
   "file_extension": ".r",
   "mimetype": "text/x-r-source",
   "name": "R",
   "pygments_lexer": "r",
   "version": "3.6.1"
  }
 },
 "nbformat": 4,
 "nbformat_minor": 5
}
