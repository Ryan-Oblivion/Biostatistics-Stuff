{
 "cells": [
  {
   "cell_type": "markdown",
   "id": "b013675a",
   "metadata": {},
   "source": [
    "    # NetId: rj931\n",
    "    # Ryan Johnson\n",
    "    # Applied Biostatistics"
   ]
  },
  {
   "cell_type": "code",
   "execution_count": 1,
   "id": "ebc854a7",
   "metadata": {},
   "outputs": [],
   "source": [
    "wh  <-  read.csv(\"weight-height (1).csv.gz\", header = TRUE)\n",
    "feh <- sample(wh[c(5001:10000),2],20)\n",
    "mah  <- sample(wh[c(1:5000),2],20)\n",
    "#ht  <- wh[c(1:20,5001:5020),2]\n",
    "\n",
    "#above i have random female heights as feh, random male heights as mah and both\n",
    "# heights as ht\n",
    "few <- sample(wh[c(5001:10000),3],20)\n",
    "maw  <- sample(wh[c(1:5000),3],20)\n",
    "wt  <- wh[c(1:20,5001:5020),3]\n",
    "# above i have the female weights as few, male weights as maw and both\n",
    "# weights as wt"
   ]
  },
  {
   "cell_type": "code",
   "execution_count": 2,
   "id": "c7d437f1",
   "metadata": {},
   "outputs": [
    {
     "name": "stdout",
     "output_type": "stream",
     "text": [
      "the t-test for height is:\t"
     ]
    },
    {
     "data": {
      "text/plain": [
       "\n",
       "\tWelch Two Sample t-test\n",
       "\n",
       "data:  feh and mah\n",
       "t = -7.1485, df = 37.959, p-value = 1.559e-08\n",
       "alternative hypothesis: true difference in means is not equal to 0\n",
       "95 percent confidence interval:\n",
       " -8.816655 -4.924983\n",
       "sample estimates:\n",
       "mean of x mean of y \n",
       " 62.91910  69.78992 \n"
      ]
     },
     "metadata": {},
     "output_type": "display_data"
    },
    {
     "name": "stdout",
     "output_type": "stream",
     "text": [
      "the t-test for weight is:\t"
     ]
    },
    {
     "data": {
      "text/plain": [
       "\n",
       "\tWelch Two Sample t-test\n",
       "\n",
       "data:  few and maw\n",
       "t = -10.98, df = 37.968, p-value = 2.413e-13\n",
       "alternative hypothesis: true difference in means is not equal to 0\n",
       "95 percent confidence interval:\n",
       " -70.19436 -48.33918\n",
       "sample estimates:\n",
       "mean of x mean of y \n",
       " 128.4759  187.7427 \n"
      ]
     },
     "metadata": {},
     "output_type": "display_data"
    }
   ],
   "source": [
    "# question 1 part 1\n",
    "\n",
    "\n",
    "height_test <- t.test(feh,mah)\n",
    "# this is the t-test for height \n",
    "weight_test <- t.test(few,maw)\n",
    "#this is the t-test for weight\n",
    "\n",
    "#both_test <- t.test(ht,wt)\n",
    "# this is the t-test for both height and weight\n",
    "\n",
    "cat('the t-test for height is:\\t')\n",
    "height_test\n",
    "\n",
    "# i think the difference of means being 5.9 means it is significant \n",
    "# for the height t-test between women and men\n",
    "\n",
    "cat('the t-test for weight is:\\t')\n",
    "weight_test\n",
    "\n",
    "# the difference of means being 56.9 shows significance in the samples\n",
    "\n",
    "\n"
   ]
  },
  {
   "cell_type": "code",
   "execution_count": 53,
   "id": "a85d21bf",
   "metadata": {},
   "outputs": [
    {
     "data": {
      "text/html": [
       "5.94295999999999"
      ],
      "text/latex": [
       "5.94295999999999"
      ],
      "text/markdown": [
       "5.94295999999999"
      ],
      "text/plain": [
       "[1] 5.94296"
      ]
     },
     "metadata": {},
     "output_type": "display_data"
    },
    {
     "data": {
      "text/html": [
       "-45.7621"
      ],
      "text/latex": [
       "-45.7621"
      ],
      "text/markdown": [
       "-45.7621"
      ],
      "text/plain": [
       "[1] -45.7621"
      ]
     },
     "metadata": {},
     "output_type": "display_data"
    }
   ],
   "source": [
    "69.50638-63.56342\n",
    "136.3136 - 182.0757"
   ]
  },
  {
   "cell_type": "code",
   "execution_count": 3,
   "id": "58666a54",
   "metadata": {},
   "outputs": [
    {
     "name": "stdout",
     "output_type": "stream",
     "text": [
      "the max number i can add to each female height\n",
      "till the significance of the difference in means falls below\n",
      "0.05 is:  6.9"
     ]
    },
    {
     "data": {
      "text/html": [
       "<ol class=list-inline>\n",
       "\t<li>68.4246052888477</li>\n",
       "\t<li>69.7593737917474</li>\n",
       "\t<li>69.991703137238</li>\n",
       "\t<li>70.7055284133837</li>\n",
       "\t<li>75.1305543548021</li>\n",
       "\t<li>64.6955339974672</li>\n",
       "\t<li>65.806377626485</li>\n",
       "\t<li>77.2601232241529</li>\n",
       "\t<li>69.4234715140073</li>\n",
       "\t<li>70.190223692792</li>\n",
       "\t<li>71.5652423992274</li>\n",
       "\t<li>66.8559581707296</li>\n",
       "\t<li>68.2345101856516</li>\n",
       "\t<li>68.8377144672642</li>\n",
       "\t<li>70.7780763249485</li>\n",
       "\t<li>64.5475214876719</li>\n",
       "\t<li>71.525353074651</li>\n",
       "\t<li>70.9274263083623</li>\n",
       "\t<li>71.8606364936735</li>\n",
       "\t<li>69.8620401091926</li>\n",
       "</ol>\n"
      ],
      "text/latex": [
       "\\begin{enumerate*}\n",
       "\\item 68.4246052888477\n",
       "\\item 69.7593737917474\n",
       "\\item 69.991703137238\n",
       "\\item 70.7055284133837\n",
       "\\item 75.1305543548021\n",
       "\\item 64.6955339974672\n",
       "\\item 65.806377626485\n",
       "\\item 77.2601232241529\n",
       "\\item 69.4234715140073\n",
       "\\item 70.190223692792\n",
       "\\item 71.5652423992274\n",
       "\\item 66.8559581707296\n",
       "\\item 68.2345101856516\n",
       "\\item 68.8377144672642\n",
       "\\item 70.7780763249485\n",
       "\\item 64.5475214876719\n",
       "\\item 71.525353074651\n",
       "\\item 70.9274263083623\n",
       "\\item 71.8606364936735\n",
       "\\item 69.8620401091926\n",
       "\\end{enumerate*}\n"
      ],
      "text/markdown": [
       "1. 68.4246052888477\n",
       "2. 69.7593737917474\n",
       "3. 69.991703137238\n",
       "4. 70.7055284133837\n",
       "5. 75.1305543548021\n",
       "6. 64.6955339974672\n",
       "7. 65.806377626485\n",
       "8. 77.2601232241529\n",
       "9. 69.4234715140073\n",
       "10. 70.190223692792\n",
       "11. 71.5652423992274\n",
       "12. 66.8559581707296\n",
       "13. 68.2345101856516\n",
       "14. 68.8377144672642\n",
       "15. 70.7780763249485\n",
       "16. 64.5475214876719\n",
       "17. 71.525353074651\n",
       "18. 70.9274263083623\n",
       "19. 71.8606364936735\n",
       "20. 69.8620401091926\n",
       "\n",
       "\n"
      ],
      "text/plain": [
       " [1] 68.42461 69.75937 69.99170 70.70553 75.13055 64.69553 65.80638 77.26012\n",
       " [9] 69.42347 70.19022 71.56524 66.85596 68.23451 68.83771 70.77808 64.54752\n",
       "[17] 71.52535 70.92743 71.86064 69.86204"
      ]
     },
     "metadata": {},
     "output_type": "display_data"
    },
    {
     "data": {
      "text/plain": [
       "\n",
       "\tWelch Two Sample t-test\n",
       "\n",
       "data:  new_feh and mah\n",
       "t = 0.03036, df = 37.959, p-value = 0.9759\n",
       "alternative hypothesis: true difference in means is not equal to 0\n",
       "95 percent confidence interval:\n",
       " -1.916655  1.975017\n",
       "sample estimates:\n",
       "mean of x mean of y \n",
       " 69.81910  69.78992 \n"
      ]
     },
     "metadata": {},
     "output_type": "display_data"
    }
   ],
   "source": [
    "# question 2 part1\n",
    "\n",
    "new_feh <- c()\n",
    "# first i needed to make a new empty list where the new values \n",
    "# for female height added with 0.1 each time will be placed into\n",
    "\n",
    "y <- 0\n",
    "# this y variable is to be used in the while loop so i can\n",
    "# keep adding an additional 0.1 to the data after each for loop\n",
    "\n",
    "\n",
    "diff_mean <- (sum(mah)/length(mah))-(sum(feh)/length(feh))\n",
    "# here i needed to get the difference of the two means\n",
    "# this number will be used in the while loop statement\n",
    "# but only once. the next time i use this variable it will have\n",
    "# the difference of two means but with the updated female means\n",
    "\n",
    "while (diff_mean > 0.05){\n",
    "# here is my while loop looking to see if the difference of two \n",
    "# means are greater than 0.05 still\n",
    "    \n",
    "    y <-  y+0.1\n",
    "    #here i update the y variable after each loop\n",
    "    \n",
    "    for (x in feh){\n",
    "        new_feh <- append(new_feh,x+y)\n",
    "        #in this for loop, every value in female height will be added\n",
    "        # to the y variable and then appended to the new_feh \n",
    "        \n",
    "        #print(y)\n",
    "        \n",
    "    }\n",
    "    diff_mean <- mean(mah)-mean(new_feh)\n",
    "    #after the for loop but still inside the while loop. \n",
    "    # i get the new difference of mean every time the for loop \n",
    "    # populates the varilble new_feh with the updated numbers\n",
    "    \n",
    "    new_feh  <- NULL\n",
    "    # next i need to empty the variable new_feh, to get it ready for\n",
    "    # the next loop so its only populated with the even newer\n",
    "    # updated values for female heights\n",
    "\n",
    "    \n",
    "\n",
    "    \n",
    "}\n",
    "cat('the max number i can add to each female height\n",
    "till the significance of the difference in means falls below\n",
    "0.05 is: ',y)\n",
    "\n",
    "# here i printed an output to tell what the max number is needed to\n",
    "# be added to each of the female heights\n",
    "\n",
    "for (x in feh){\n",
    "    new_feh <- append(new_feh, x+y)\n",
    "}\n",
    "# i made a new for loop to repopulate the variable since i cant use\n",
    "# it after my loops are done becaues of the code that empties it\n",
    "# so i just use the max y that was found and add that to each female\n",
    "# height value \n",
    "\n",
    "new_feh\n",
    "# i show each of the final values that are added\n",
    "\n",
    "t.test(new_feh,mah)\n",
    "# next i run a t-test on it"
   ]
  },
  {
   "cell_type": "raw",
   "id": "afaf2c4e",
   "metadata": {},
   "source": [
    "# number 3 part 1\n",
    "no, i dont think that if i choose the height of every female to be equal to the mean it would change anything. if every females height were equal to the mean i would still have to add 5.9 every time before the test showed lack of signifacant difference\n",
    "\n",
    "# number 4 part 1\n",
    "the answer in number 2 is related to the diference in the means between the two groups because that number is how much you need to add to the female mean to get the male mean. so if looking at a normal distribution graph of both heights for females and males, the males peak would be shifted 5.9 points (in cm) to the right of the females peak. also since the standard deviation is about the same for both, at 2.9, adding anything above that would make the significance start to drop faster"
   ]
  },
  {
   "cell_type": "code",
   "execution_count": 4,
   "id": "2d7dd754",
   "metadata": {},
   "outputs": [
    {
     "data": {
      "text/plain": [
       "\n",
       "\tWelch Two Sample t-test\n",
       "\n",
       "data:  tall_b20m and short_t20m\n",
       "t = 77.918, df = 37.079, p-value < 2.2e-16\n",
       "alternative hypothesis: true difference in means is not equal to 0\n",
       "95 percent confidence interval:\n",
       " 16.58676 17.47237\n",
       "sample estimates:\n",
       "mean of x mean of y \n",
       " 77.38604  60.35648 \n"
      ]
     },
     "metadata": {},
     "output_type": "display_data"
    },
    {
     "data": {
      "text/plain": [
       "\n",
       "\tWelch Two Sample t-test\n",
       "\n",
       "data:  short_t20f and short_t20m\n",
       "t = -22.943, df = 37.998, p-value < 2.2e-16\n",
       "alternative hypothesis: true difference in means is not equal to 0\n",
       "95 percent confidence interval:\n",
       " -4.988914 -4.179892\n",
       "sample estimates:\n",
       "mean of x mean of y \n",
       " 55.77207  60.35648 \n"
      ]
     },
     "metadata": {},
     "output_type": "display_data"
    },
    {
     "data": {
      "text/plain": [
       "\n",
       "\tWelch Two Sample t-test\n",
       "\n",
       "data:  tall_b20f and short_t20m\n",
       "t = 49.939, df = 36.992, p-value < 2.2e-16\n",
       "alternative hypothesis: true difference in means is not equal to 0\n",
       "95 percent confidence interval:\n",
       " 10.51838 11.40801\n",
       "sample estimates:\n",
       "mean of x mean of y \n",
       " 71.31967  60.35648 \n"
      ]
     },
     "metadata": {},
     "output_type": "display_data"
    },
    {
     "data": {
      "text/plain": [
       "\n",
       "\tWelch Two Sample t-test\n",
       "\n",
       "data:  short_t20f and tall_b20m\n",
       "t = -99.219, df = 36.99, p-value < 2.2e-16\n",
       "alternative hypothesis: true difference in means is not equal to 0\n",
       "95 percent confidence interval:\n",
       " -22.05536 -21.17258\n",
       "sample estimates:\n",
       "mean of x mean of y \n",
       " 55.77207  77.38604 \n"
      ]
     },
     "metadata": {},
     "output_type": "display_data"
    },
    {
     "data": {
      "text/plain": [
       "\n",
       "\tWelch Two Sample t-test\n",
       "\n",
       "data:  tall_b20f and tall_b20m\n",
       "t = -25.699, df = 37.998, p-value < 2.2e-16\n",
       "alternative hypothesis: true difference in means is not equal to 0\n",
       "95 percent confidence interval:\n",
       " -6.544245 -5.588499\n",
       "sample estimates:\n",
       "mean of x mean of y \n",
       " 71.31967  77.38604 \n"
      ]
     },
     "metadata": {},
     "output_type": "display_data"
    },
    {
     "data": {
      "text/plain": [
       "\n",
       "\tWelch Two Sample t-test\n",
       "\n",
       "data:  tall_b20f and short_t20f\n",
       "t = 71.051, df = 36.9, p-value < 2.2e-16\n",
       "alternative hypothesis: true difference in means is not equal to 0\n",
       "95 percent confidence interval:\n",
       " 15.10418 15.99101\n",
       "sample estimates:\n",
       "mean of x mean of y \n",
       " 71.31967  55.77207 \n"
      ]
     },
     "metadata": {},
     "output_type": "display_data"
    },
    {
     "name": "stderr",
     "output_type": "stream",
     "text": [
      "Warning message:\n",
      "\"package 'reshape2' was built under R version 3.6.3\"Using gender as id variables\n",
      "Using gender as id variables\n",
      "Using gender as id variables\n",
      "Using gender as id variables\n"
     ]
    },
    {
     "data": {
      "text/plain": [
       "  Tukey multiple comparisons of means\n",
       "    95% family-wise confidence level\n",
       "\n",
       "Fit: aov(formula = height ~ gender, data = height4_gender_df)\n",
       "\n",
       "$gender\n",
       "                    diff        lwr        upr p adj\n",
       "tallM-shortM   17.029567  16.455115  17.604019     0\n",
       "shortF-shortM  -4.584403  -5.158855  -4.009951     0\n",
       "tallF-shortM   10.963195  10.388743  11.537647     0\n",
       "shortF-tallM  -21.613970 -22.188422 -21.039518     0\n",
       "tallF-tallM    -6.066372  -6.640824  -5.491920     0\n",
       "tallF-shortF   15.547598  14.973146  16.122050     0\n"
      ]
     },
     "metadata": {},
     "output_type": "display_data"
    },
    {
     "data": {
      "text/html": [
       "<dl class=dl-horizontal>\n",
       "\t<dt>tallM-shortM</dt>\n",
       "\t\t<dd>0</dd>\n",
       "\t<dt>shortF-shortM</dt>\n",
       "\t\t<dd>0</dd>\n",
       "\t<dt>tallF-shortM</dt>\n",
       "\t\t<dd>0</dd>\n",
       "\t<dt>shortF-tallM</dt>\n",
       "\t\t<dd>0</dd>\n",
       "\t<dt>tallF-tallM</dt>\n",
       "\t\t<dd>0</dd>\n",
       "\t<dt>tallF-shortF</dt>\n",
       "\t\t<dd>0</dd>\n",
       "</dl>\n"
      ],
      "text/latex": [
       "\\begin{description*}\n",
       "\\item[tallM-shortM] 0\n",
       "\\item[shortF-shortM] 0\n",
       "\\item[tallF-shortM] 0\n",
       "\\item[shortF-tallM] 0\n",
       "\\item[tallF-tallM] 0\n",
       "\\item[tallF-shortF] 0\n",
       "\\end{description*}\n"
      ],
      "text/markdown": [
       "tallM-shortM\n",
       ":   0shortF-shortM\n",
       ":   0tallF-shortM\n",
       ":   0shortF-tallM\n",
       ":   0tallF-tallM\n",
       ":   0tallF-shortF\n",
       ":   0\n",
       "\n"
      ],
      "text/plain": [
       " tallM-shortM shortF-shortM  tallF-shortM  shortF-tallM   tallF-tallM \n",
       "            0             0             0             0             0 \n",
       " tallF-shortF \n",
       "            0 "
      ]
     },
     "metadata": {},
     "output_type": "display_data"
    }
   ],
   "source": [
    "# part 2a\n",
    "\n",
    "ordered_mh <- sort(wh[1:5000,2])\n",
    "#ordered_mh\n",
    "ordered_fh <- sort(wh[5001:10000,2])\n",
    "tb40_mah <- c(head(ordered_mh,20),tail(ordered_mh,20))\n",
    "tb40_feh <- c(head(ordered_fh,20),tail(ordered_fh,20))\n",
    "#length(tb40_mah)\n",
    "#tb40_mah\n",
    "# use tb40_mah and tb40_feh for (a) to do a pairwise t-test \n",
    "# between the groups\n",
    "\n",
    "#t.test(tb40_feh,tb40_mah)\n",
    "\n",
    "\n",
    "# then separate them into four groups for the ANOVA test\n",
    "short_t20m  <- head(tb40_mah,20)\n",
    "short_mdf <- data.frame(gender = 'shortM', height = short_t20m)\n",
    "tall_b20m   <- tail(tb40_mah,20)\n",
    "tall_mdf <- data.frame(gender = 'tallM', height = tall_b20m)\n",
    "short_t20f <- head(tb40_feh,20)\n",
    "short_fdf <- data.frame(gender = 'shortF', height = short_t20f)\n",
    "tall_b20f  <- tail(tb40_feh,20)\n",
    "tall_fdf <- data.frame(gender = 'tallF', height = tall_b20f)\n",
    "\n",
    "# above for each group, i took the top of the men height, bottom of\n",
    "# men height, top of female height, bottom of female height, then\n",
    "# put that in the t-test below.\n",
    "# further i also made all the 4 variables into dataframes for the \n",
    "# next part which is part b.\n",
    "\n",
    "#short_mdf\n",
    "#tall_fdf\n",
    "\n",
    "t.test(tall_b20m,short_t20m )\n",
    "t.test(short_t20f,short_t20m)\n",
    "t.test(tall_b20f,short_t20m)\n",
    "t.test(short_t20f,tall_b20m)\n",
    "t.test(tall_b20f,tall_b20m)\n",
    "t.test(tall_b20f,short_t20f)\n",
    "# the above is where i performed a t-test for all 6 combinations\n",
    "# that exists for the 4 groups\n",
    "\n",
    "#part 2b\n",
    "\n",
    "all_df  <- list(short_mdf,tall_mdf,short_fdf, tall_fdf)\n",
    "\n",
    "# this is where the previously created dataframes went. \n",
    "# to prepare them to be accepted by ANOVA i needed to put all \n",
    "# 4 groups dataframes into a list called all_df\n",
    "\n",
    "\n",
    "library(reshape2)\n",
    "\n",
    "height4_gender_df  <- melt(all_df, variable.name='gender',\n",
    "                           value.name = 'height')\n",
    "\n",
    "# now using the reshape2 library i can melt the dataframes (all_df) \n",
    "# and create one coherent dataframe in the long format that ANOVA\n",
    "# likes called, height4_gender_df\n",
    "\n",
    "#height4_gender_df\n",
    "height4.aov <- aov( height~gender , data = height4_gender_df)\n",
    "# above i use aov with the format (height~gender) to get the ANOVA\n",
    "\n",
    "#height4.aov\n",
    "\n",
    "data <- TukeyHSD(height4.aov)\n",
    "# here i used TukeyHSD on my ANOVA results and call it data\n",
    "\n",
    "data\n",
    "# this calls the ANOVA data\n",
    "\n",
    "data$gender[,\"p adj\"]\n",
    "# i thought that maybe i can extract the true p adj data but it is \n",
    "# still 0. \n"
   ]
  },
  {
   "cell_type": "raw",
   "id": "f4c3e47e",
   "metadata": {},
   "source": [
    "# part 2 number 1\n",
    "\n",
    "looking at the results of \"a\" and \"b\", i can see that the p-values for all 6 comparisons are 2.2e-16. I can also see that there is only one instance where females are taller than males and that is with the \"tallF-shortM\".\n"
   ]
  },
  {
   "cell_type": "code",
   "execution_count": 6,
   "id": "bf1030ad",
   "metadata": {},
   "outputs": [
    {
     "name": "stdout",
     "output_type": "stream",
     "text": [
      "I need to take  3906  male heights to make the mean of short \n",
      "male heights bigger than the mean of the tall female heights"
     ]
    }
   ],
   "source": [
    "#short-male  <- head(tb40_mah,20)\n",
    "\n",
    "new_sm  <- head(ordered_mh,20)\n",
    "x <- 1\n",
    "\n",
    "# x keep track of how many times the loop is ran, also it is used to \n",
    "# remove the range of elements in my tall female list\n",
    "\n",
    "\n",
    "\n",
    "# c is the range of elements i want to remove at a time.\n",
    "# -1:-1 would just be removing one element so i start with x as 1,\n",
    "# -1:-2 will be removing the first and second element which counts as \n",
    "# the second time i removed something\n",
    "\n",
    "while (mean(tall_b20f) > mean(new_sm)){\n",
    "    c <- c(-1: -x)\n",
    "    # c is the range of elements i want to remove at a time.\n",
    "    # -1:-1 would just be removing one element so i start with x as 1,\n",
    "    # -1:-2 will be removing the first and second element which counts as \n",
    "    # the second time i removed something\n",
    "    \n",
    "    removed_element <- ordered_mh[c]\n",
    "    # next i needed to go back to my ordered male height list and plug\n",
    "    # the c variable in to remove the elements from the list of original\n",
    "    # ordered male heights\n",
    "    \n",
    "    short_male  <- head(removed_element,20)\n",
    "    # next i took the top twenty of the males remaining in the list\n",
    "    # gave that group a variable called short_male\n",
    "    \n",
    "    new_sm  <- NULL\n",
    "    # i empty the variable since i want to append new data to it\n",
    "    \n",
    "    new_sm <- append(new_sm, short_male)\n",
    "    #next i wanted to append the new data generated for the (short_male)\n",
    "    # variable, in this current while loop, to the variable that i just \n",
    "    # emptied above\n",
    "    \n",
    "    x <- x+1\n",
    "    # here i want to iterate over the x variable by adding 1 so i can\n",
    "    # get a precise idea of how many loops i made and how many male\n",
    "    # heights i ended up deleting \n",
    "    # the while loop then continues until its condition is met\n",
    "}\n",
    "cat(\"I need to delete \",x, \" male heights to make the mean of short \n",
    "male heights bigger than the mean of the tall female heights\")\n",
    "\n",
    "# don't worry about below. i used that to figure out a few things\n",
    "#new_sm <- short_t20m[-1]\n",
    "#new_sm\n",
    "#t.test(tall_b20f,new_sm)\n"
   ]
  },
  {
   "cell_type": "raw",
   "id": "630a5015",
   "metadata": {},
   "source": [
    "# attempt 2 at answering for part 2 number 2\n",
    "\n",
    "since the p-value for tallF vs shortM is pretty low, there may not be a way to invert the means where the men and women in their respective sub groups reflect what we know from the full set, this is because the shortest male is still shorter than the shortest tall female"
   ]
  },
  {
   "cell_type": "raw",
   "id": "aabe9225",
   "metadata": {},
   "source": [
    "# original attempt part 2 number 2\n",
    "\n",
    "I see now that my original reasoning for this question is incorrect. I thought i was deleting heights and getting what was remaining, however, i was actually getting the heights i deleted and using that as my data. so what i actually did was find out how many heights i needed to take from the original male heights, starting with the smallest, to see how many males it would take to make the mean of the the males larger than the mean of the females. so i needed to take 3906 males to make that happen. then the p-value becomes 0.048\n",
    "\n",
    "Below was my reasoning before, which is wrong\n",
    "\n",
    "I need to delete 3906 heights, starting from the shortest, to get to a point where the mean of short male heights is larger than the mean of the tall female heights. using the while loop above to get the answer. to then make the difference significant i would need to delete in total 4099 of the shortest male heights to make sure the p-value is less than 0.05. the p-value ends up being 0.048 "
   ]
  },
  {
   "cell_type": "code",
   "execution_count": 18,
   "id": "d8640c82",
   "metadata": {},
   "outputs": [
    {
     "data": {
      "text/html": [
       "4099"
      ],
      "text/latex": [
       "4099"
      ],
      "text/markdown": [
       "4099"
      ],
      "text/plain": [
       "[1] 4099"
      ]
     },
     "metadata": {},
     "output_type": "display_data"
    },
    {
     "data": {
      "text/html": [
       "0.0487563557693345"
      ],
      "text/latex": [
       "0.0487563557693345"
      ],
      "text/markdown": [
       "0.0487563557693345"
      ],
      "text/plain": [
       "[1] 0.04875636"
      ]
     },
     "metadata": {},
     "output_type": "display_data"
    },
    {
     "name": "stdout",
     "output_type": "stream",
     "text": [
      "I need to delete a total of  4099  short male heights, to make\n",
      "the mean t-test show a significant difference with a p-value of\n",
      "less than 0.05. The p-value i got is  0.04875636"
     ]
    }
   ],
   "source": [
    "# this part can be ignored now since i realized that my understanding \n",
    "# of the question was flawed\n",
    "# continued from part 2 number 2\n",
    "\n",
    "x\n",
    "# i took the x value generated in the while loop above\n",
    "\n",
    "v <- c(-1:-x)\n",
    "# i then used v to get the range of items i want to delet from the \n",
    "# original male height. much like i did previously\n",
    "#length(ordered_mh)\n",
    "removed_element <- ordered_mh[v]\n",
    "#length(removed_element)\n",
    "#length(ordered_mh[v])\n",
    "# then removed that amount of male heights and called it (removed_element)\n",
    "sm <- head(removed_element,20)\n",
    "# then i took the top 20 of the remaining heights and called it sm\n",
    "\n",
    "\n",
    "test_tf_sm <- t.test(tall_b20f,sm)$p.value\n",
    "# here i performed a t-test between tall female and short male, only to\n",
    "# get the p-value from the results\n",
    "\n",
    "test_tf_sm\n",
    "\n",
    "while (test_tf_sm > 0.05){\n",
    "    #started another while loop \n",
    "    # this one looks to see if the p-value(test_tf_sm) is larger \n",
    "    # than 0.05. which would mean the p-value is not significant\n",
    "    #the\n",
    "    x  <- x+1\n",
    "    # since it is not significant i will add 1 to the x counter\n",
    "    \n",
    "    v <- c(-1:-x)\n",
    "    # adding another 1 to x causes me to delete one more element from\n",
    "    # the original ordered male heights\n",
    "    \n",
    "    removed_element <- ordered_mh[v]\n",
    "    # now i have removed (v) heights from the ordered male heights\n",
    "    \n",
    "    sm <- head(removed_element,20)\n",
    "    # then i took the top 20 elements left in the male heights data\n",
    "    test_tf_sm <- t.test(tall_b20f,sm)$p.value\n",
    "    # with the new small male heights (sm), i perform a t-test\n",
    "    # this looks for only the p-value and compares it with 0.05\n",
    "    # the loop will run again if it is greater that 0.05 \n",
    "    # the loop will stop if it is less than 0.05\n",
    "    \n",
    "}\n",
    "cat(\"I need to delete a total of \",x, \" short male heights, to make\n",
    "the mean t-test show a significant difference with a p-value of\n",
    "less than 0.05. The p-value i got is \", test_tf_sm)\n"
   ]
  },
  {
   "cell_type": "code",
   "execution_count": 7,
   "id": "08611fa7",
   "metadata": {},
   "outputs": [
    {
     "data": {
      "text/html": [
       "5000"
      ],
      "text/latex": [
       "5000"
      ],
      "text/markdown": [
       "5000"
      ],
      "text/plain": [
       "[1] 5000"
      ]
     },
     "metadata": {},
     "output_type": "display_data"
    },
    {
     "data": {
      "text/html": [
       "<ol class=list-inline>\n",
       "\t<li>70.654455414249</li>\n",
       "\t<li>70.6643003503891</li>\n",
       "\t<li>70.6648647656303</li>\n",
       "\t<li>70.697142976137</li>\n",
       "\t<li>70.7101395263283</li>\n",
       "\t<li>70.7420859115169</li>\n",
       "\t<li>70.751410247212</li>\n",
       "\t<li>70.8175378934773</li>\n",
       "\t<li>70.837103218395</li>\n",
       "\t<li>70.9321942044308</li>\n",
       "\t<li>70.950659090658</li>\n",
       "\t<li>71.0704512296053</li>\n",
       "\t<li>71.122792523624</li>\n",
       "\t<li>71.2775069444522</li>\n",
       "\t<li>71.4389467760974</li>\n",
       "\t<li>71.5522046700191</li>\n",
       "\t<li>71.9912565421476</li>\n",
       "\t<li>72.0887123319944</li>\n",
       "\t<li>72.2647482777197</li>\n",
       "\t<li>72.4297709549193</li>\n",
       "</ol>\n"
      ],
      "text/latex": [
       "\\begin{enumerate*}\n",
       "\\item 70.654455414249\n",
       "\\item 70.6643003503891\n",
       "\\item 70.6648647656303\n",
       "\\item 70.697142976137\n",
       "\\item 70.7101395263283\n",
       "\\item 70.7420859115169\n",
       "\\item 70.751410247212\n",
       "\\item 70.8175378934773\n",
       "\\item 70.837103218395\n",
       "\\item 70.9321942044308\n",
       "\\item 70.950659090658\n",
       "\\item 71.0704512296053\n",
       "\\item 71.122792523624\n",
       "\\item 71.2775069444522\n",
       "\\item 71.4389467760974\n",
       "\\item 71.5522046700191\n",
       "\\item 71.9912565421476\n",
       "\\item 72.0887123319944\n",
       "\\item 72.2647482777197\n",
       "\\item 72.4297709549193\n",
       "\\end{enumerate*}\n"
      ],
      "text/markdown": [
       "1. 70.654455414249\n",
       "2. 70.6643003503891\n",
       "3. 70.6648647656303\n",
       "4. 70.697142976137\n",
       "5. 70.7101395263283\n",
       "6. 70.7420859115169\n",
       "7. 70.751410247212\n",
       "8. 70.8175378934773\n",
       "9. 70.837103218395\n",
       "10. 70.9321942044308\n",
       "11. 70.950659090658\n",
       "12. 71.0704512296053\n",
       "13. 71.122792523624\n",
       "14. 71.2775069444522\n",
       "15. 71.4389467760974\n",
       "16. 71.5522046700191\n",
       "17. 71.9912565421476\n",
       "18. 72.0887123319944\n",
       "19. 72.2647482777197\n",
       "20. 72.4297709549193\n",
       "\n",
       "\n"
      ],
      "text/plain": [
       " [1] 70.65446 70.66430 70.66486 70.69714 70.71014 70.74209 70.75141 70.81754\n",
       " [9] 70.83710 70.93219 70.95066 71.07045 71.12279 71.27751 71.43895 71.55220\n",
       "[17] 71.99126 72.08871 72.26475 72.42977"
      ]
     },
     "metadata": {},
     "output_type": "display_data"
    },
    {
     "data": {
      "text/html": [
       "5.49840159918462e-38"
      ],
      "text/latex": [
       "5.49840159918462e-38"
      ],
      "text/markdown": [
       "5.49840159918462e-38"
      ],
      "text/plain": [
       "[1] 5.498402e-38"
      ]
     },
     "metadata": {},
     "output_type": "display_data"
    },
    {
     "name": "stdout",
     "output_type": "stream",
     "text": [
      "I need to delete a total of  4358  tall female heights, to make\n",
      "the mean t-test show a reduced significance with a p-value of\n",
      "more than 0.05. The p-value i got is  0.0610873"
     ]
    }
   ],
   "source": [
    "# part 2 number 3\n",
    "\n",
    "# what i understand here is now i need to delete the females\n",
    "# to see how many until the p-value becomes less than 0.05\n",
    "\n",
    "p  <- 0\n",
    "# i took the p value generated in the while loop above\n",
    "leng <- length(ordered_fh)\n",
    "# i want to have a value that represents the end of the female list\n",
    "leng\n",
    "v <- c(-leng:-(leng-p))\n",
    "# this helps me subtract from the end one at a time\n",
    "# i then used v to get the range of items i want to delet from the \n",
    "# original female height. much like i did previously\n",
    "\n",
    "removed_element1 <- ordered_fh[v]\n",
    "# then removed that amount of male heights and called it (removed_element)\n",
    "ft <- tail(removed_element1,20)\n",
    "ft\n",
    "# then i took the bottom 20 of the remaining heights and called it ft\n",
    "\n",
    "\n",
    "test_ft_del_sm <- t.test(ft,short_t20m)$p.value\n",
    "# here i performed a t-test between tall female and short male, only to\n",
    "# get the p-value from the results\n",
    "\n",
    "test_ft_del_sm\n",
    "\n",
    "while (test_ft_del_sm < 0.06){\n",
    "    #started another while loop \n",
    "    # this one looks to see if the p-value(test_ft_del_sm) is smaller \n",
    "    # than 0.05. which would mean the p-value is still significant\n",
    "    \n",
    "    p  <- p+1\n",
    "    # since it is still significant i will add 1 to the p counter\n",
    "    \n",
    "    v <- c(-leng:-(leng-p))\n",
    "    # adding another 1 to leng causes me to delete one more element from\n",
    "    # the original ordered female heights\n",
    "    \n",
    "    removed_element1 <- ordered_fh[v]\n",
    "    # now i have removed (v) heights from the ordered female heights\n",
    "    \n",
    "    ft <- tail(removed_element1,20)\n",
    "    # then i took the bottom 20 elements left in the female heights data\n",
    "    test_ft_del_sm <- t.test(ft,short_t20m)$p.value\n",
    "    # with the new tall female heights (ft), i perform a t-test\n",
    "    # this looks for only the p-value and compares it with 0.05\n",
    "    # the loop will run again if it is still less than 0.05 \n",
    "    # the loop will stop if it is greater than 0.05\n",
    "    \n",
    "}\n",
    "cat(\"I need to delete a total of \",p, \" tall female heights, to make\n",
    "the mean t-test show a reduced significance with a p-value of\n",
    "more than 0.05. The p-value i got is \", test_ft_del_sm)\n"
   ]
  },
  {
   "cell_type": "raw",
   "id": "90e6addf",
   "metadata": {},
   "source": [
    "# attempt 2 at answering part 2 number 3\n",
    "\n",
    "much like my previous extra attempt for part 2 number 2. i now see that since the shortest female in the 20 tallest females is still taller than the tallest male in the shortest males list, we will not be able to invert the tall female list and make it reflect what we know from the full data where on average males are taller than females."
   ]
  },
  {
   "cell_type": "raw",
   "id": "fec67f71",
   "metadata": {},
   "source": [
    "# original attempt part 2 number 3\n",
    "\n",
    "Again this understanding for part 2 number 3 is flawed. i did the same thing from part 2 number 2, where i took the original female heights and removed multiple from the bottom and thought i was using the remaing heights that were left. what i was using were the heights i deleted and put in a new list, then took the bottom 20 and saw how many i would need to add to that ned list untill the bottom 20 had a greater than 0.05 p-value when a t-test between the new tall females and the short males. \n",
    "\n",
    "Below is what my false understanding was.\n",
    "\n",
    "i would need to delete 4358 tall females to make reduce significance of the difference to a p-value of greater than 0.05. the p-value i got is 0.061\n",
    "\n",
    "\n",
    "\n",
    "# part 2 number 4\n",
    "\n",
    "you cannot use the ms v/s ft with or without deletions to prove the opposite of what the full set implies. this is because before deletions the p-value for the ft v/s ms showed 2.2e-16. this would mean its significant with the average female height of the tallest females being 71.31967 while the average male height of the shortest males is 60.35648, without deletions. the p-value being that low implies that the chance of this occuring randomly is low. does this aim to show us that we can't always trust the p-value?\n"
   ]
  }
 ],
 "metadata": {
  "kernelspec": {
   "display_name": "R",
   "language": "R",
   "name": "ir"
  },
  "language_info": {
   "codemirror_mode": "r",
   "file_extension": ".r",
   "mimetype": "text/x-r-source",
   "name": "R",
   "pygments_lexer": "r",
   "version": "3.6.1"
  }
 },
 "nbformat": 4,
 "nbformat_minor": 5
}
