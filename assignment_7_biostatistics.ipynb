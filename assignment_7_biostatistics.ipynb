{
 "cells": [
  {
   "cell_type": "raw",
   "id": "a3ca219a",
   "metadata": {},
   "source": [
    "# Ryan Johnson\n",
    "# NetID: rj931\n",
    "# assignment_7"
   ]
  },
  {
   "cell_type": "code",
   "execution_count": 15,
   "id": "2a7b6964",
   "metadata": {},
   "outputs": [
    {
     "name": "stdout",
     "output_type": "stream",
     "text": [
      "the posttest odds of disease, if test is negative is:  2 \n",
      "\n",
      "the probability for the posttest is:  0.6666667"
     ]
    }
   ],
   "source": [
    "# What is the post-test odds of disease, if test is negative? Show\n",
    "# details of how you arrived at the answer\n",
    "pretest_odds  <- 1\n",
    "sensitivity  <- 0.8\n",
    "specificity  <- 0.10\n",
    "# the three values above are given \n",
    "\n",
    "\n",
    "likelihood_negative <-  (1-sensitivity)/specificity\n",
    "# here i am calculating the likelihood ratio for a \n",
    "# negative diagnostic test\n",
    "\n",
    "posttest_odds  <- pretest_odds*likelihood_negative\n",
    "# now i can use the pretest_odds and multiply with likelihood_negative\n",
    "# to get the posttest_odds\n",
    "\n",
    "posttest_prob <- posttest_odds/(1+posttest_odds)\n",
    "# to find the posttest_prob i can then take the posttest_odds and divide\n",
    "# by 1 plus the posttest_odds \n",
    "\n",
    "cat(\"the posttest odds of disease, if test is negative is: \",\n",
    "    posttest_odds, \"\\n\\n\")\n",
    "cat(\"the probability for the posttest is: \",posttest_prob)\n",
    "\n",
    "# i had to fix the formula, because it was wrong in the lecture video"
   ]
  }
 ],
 "metadata": {
  "kernelspec": {
   "display_name": "R",
   "language": "R",
   "name": "ir"
  },
  "language_info": {
   "codemirror_mode": "r",
   "file_extension": ".r",
   "mimetype": "text/x-r-source",
   "name": "R",
   "pygments_lexer": "r",
   "version": "3.6.1"
  }
 },
 "nbformat": 4,
 "nbformat_minor": 5
}
