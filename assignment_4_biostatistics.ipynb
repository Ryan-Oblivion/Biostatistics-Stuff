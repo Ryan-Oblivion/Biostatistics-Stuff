{
 "cells": [
  {
   "cell_type": "code",
   "execution_count": null,
   "id": "701715a4",
   "metadata": {},
   "outputs": [],
   "source": [
    "# Ryan Johnson\n",
    "# NetID: rj931\n",
    "# assignment 4"
   ]
  },
  {
   "cell_type": "code",
   "execution_count": 121,
   "id": "04d28c8f",
   "metadata": {
    "scrolled": true
   },
   "outputs": [
    {
     "data": {
      "text/html": [
       "<table>\n",
       "<thead><tr><th scope=col>cell.line</th><th scope=col>canonical_name</th><th scope=col>resource</th><th scope=col>Amelogenin</th><th scope=col>CSF1PO</th><th scope=col>D13S317</th><th scope=col>D16S539</th><th scope=col>D18S51</th><th scope=col>D19S433</th><th scope=col>D21S11</th><th scope=col>D2S1338</th><th scope=col>D3S1358</th><th scope=col>D5S818</th><th scope=col>D7S820</th><th scope=col>D8S1179</th><th scope=col>FGA</th><th scope=col>Penta</th><th scope=col>TH01</th><th scope=col>TPOX</th><th scope=col>vWA</th></tr></thead>\n",
       "<tbody>\n",
       "\t<tr><td>A-253        </td><td>A-253        </td><td>ATCC:CRL-7902</td><td>X            </td><td>12,13        </td><td>9,12         </td><td>12           </td><td>0            </td><td>0            </td><td>0            </td><td>0            </td><td>0            </td><td>11           </td><td>10,12        </td><td>0            </td><td>0            </td><td>0            </td><td>6,8          </td><td>8,12         </td><td>16           </td></tr>\n",
       "\t<tr><td>NCI-BL2195   </td><td>NCI-BL2195   </td><td>ATCC:CRL-5956</td><td>X,Y          </td><td>11           </td><td>11           </td><td>10,14        </td><td>0            </td><td>0            </td><td>0            </td><td>0            </td><td>0            </td><td>11,12        </td><td>10,11        </td><td>0            </td><td>0            </td><td>0            </td><td>9.3          </td><td>8,9          </td><td>17,18        </td></tr>\n",
       "\t<tr><td>LCL-WEI      </td><td>LCL-WEI      </td><td>DSM:ACC-218  </td><td>X,Y          </td><td>10,11        </td><td>11,12        </td><td>13           </td><td>0            </td><td>0            </td><td>0            </td><td>0            </td><td>0            </td><td>11,13        </td><td>12           </td><td>0            </td><td>0            </td><td>0            </td><td>9.3          </td><td>8,10         </td><td>17           </td></tr>\n",
       "\t<tr><td>Hs 212.M     </td><td>Hs 212.M     </td><td>ATCC:CRL-7173</td><td>X,Y          </td><td>11,12        </td><td>12           </td><td>11           </td><td>0            </td><td>0            </td><td>0            </td><td>0            </td><td>0            </td><td>13,15        </td><td>8,11         </td><td>0            </td><td>0            </td><td>0            </td><td>6,9          </td><td>11           </td><td>16,18        </td></tr>\n",
       "\t<tr><td>QGP-1        </td><td>QGP-1        </td><td>JCRB:0183    </td><td>X            </td><td>10,12        </td><td>13           </td><td>10,12        </td><td>13           </td><td>0            </td><td>29           </td><td>0            </td><td>14,17        </td><td>12           </td><td>12           </td><td>14           </td><td>21,23        </td><td>E            </td><td>6,9          </td><td>8,11         </td><td>14,17,18     </td></tr>\n",
       "\t<tr><td>HLC-1        </td><td>HLC-1        </td><td>RCB:0083     </td><td>X            </td><td>7,12         </td><td>8            </td><td>9,12         </td><td>0            </td><td>0            </td><td>0            </td><td>0            </td><td>0            </td><td>9,10         </td><td>11,13        </td><td>0            </td><td>0            </td><td>0            </td><td>7,9          </td><td>12           </td><td>16,17        </td></tr>\n",
       "\t<tr><td>PC-3         </td><td>PC-3         </td><td>JCRB:0077    </td><td>X            </td><td>12,15        </td><td>11,12        </td><td>10           </td><td>14,15        </td><td>0            </td><td>29,31.2      </td><td>0            </td><td>16           </td><td>12           </td><td>11,13        </td><td>13           </td><td>24           </td><td>E            </td><td>9            </td><td>8            </td><td>14           </td></tr>\n",
       "\t<tr><td>HCC2911      </td><td>HCC2911      </td><td>GNE:586180   </td><td>X            </td><td>8,13         </td><td>12,13        </td><td>11,13        </td><td>15           </td><td>0            </td><td>30,32.2      </td><td>0            </td><td>17,18        </td><td>11,12        </td><td>8            </td><td>12,14        </td><td>21           </td><td>E            </td><td>6,9.3        </td><td>9,12         </td><td>16,18        </td></tr>\n",
       "\t<tr><td>Hs 523.Sk    </td><td>Hs 523.Sk    </td><td>ATCC:CRL-7314</td><td>X,Y          </td><td>9,10         </td><td>12,13        </td><td>10,13        </td><td>0            </td><td>0            </td><td>0            </td><td>0            </td><td>0            </td><td>10,11        </td><td>10,11        </td><td>0            </td><td>0            </td><td>0            </td><td>7,9.3        </td><td>8,9          </td><td>15,18        </td></tr>\n",
       "\t<tr><td>HCC78        </td><td>HCC78        </td><td>GNE:586319   </td><td>X,Y          </td><td>11,12        </td><td>8,12         </td><td>11,13        </td><td>12,16        </td><td>0            </td><td>29,30        </td><td>0            </td><td>16,17        </td><td>11,12        </td><td>9            </td><td>13,14        </td><td>21,22        </td><td>E            </td><td>7,9.3        </td><td>8,11         </td><td>15,18        </td></tr>\n",
       "</tbody>\n",
       "</table>\n"
      ],
      "text/latex": [
       "\\begin{tabular}{r|llllllllllllllllllll}\n",
       " cell.line & canonical\\_name & resource & Amelogenin & CSF1PO & D13S317 & D16S539 & D18S51 & D19S433 & D21S11 & D2S1338 & D3S1358 & D5S818 & D7S820 & D8S1179 & FGA & Penta & TH01 & TPOX & vWA\\\\\n",
       "\\hline\n",
       "\t A-253         & A-253         & ATCC:CRL-7902 & X             & 12,13         & 9,12          & 12            & 0             & 0             & 0             & 0             & 0             & 11            & 10,12         & 0             & 0             & 0             & 6,8           & 8,12          & 16           \\\\\n",
       "\t NCI-BL2195    & NCI-BL2195    & ATCC:CRL-5956 & X,Y           & 11            & 11            & 10,14         & 0             & 0             & 0             & 0             & 0             & 11,12         & 10,11         & 0             & 0             & 0             & 9.3           & 8,9           & 17,18        \\\\\n",
       "\t LCL-WEI       & LCL-WEI       & DSM:ACC-218   & X,Y           & 10,11         & 11,12         & 13            & 0             & 0             & 0             & 0             & 0             & 11,13         & 12            & 0             & 0             & 0             & 9.3           & 8,10          & 17           \\\\\n",
       "\t Hs 212.M      & Hs 212.M      & ATCC:CRL-7173 & X,Y           & 11,12         & 12            & 11            & 0             & 0             & 0             & 0             & 0             & 13,15         & 8,11          & 0             & 0             & 0             & 6,9           & 11            & 16,18        \\\\\n",
       "\t QGP-1         & QGP-1         & JCRB:0183     & X             & 10,12         & 13            & 10,12         & 13            & 0             & 29            & 0             & 14,17         & 12            & 12            & 14            & 21,23         & E             & 6,9           & 8,11          & 14,17,18     \\\\\n",
       "\t HLC-1         & HLC-1         & RCB:0083      & X             & 7,12          & 8             & 9,12          & 0             & 0             & 0             & 0             & 0             & 9,10          & 11,13         & 0             & 0             & 0             & 7,9           & 12            & 16,17        \\\\\n",
       "\t PC-3          & PC-3          & JCRB:0077     & X             & 12,15         & 11,12         & 10            & 14,15         & 0             & 29,31.2       & 0             & 16            & 12            & 11,13         & 13            & 24            & E             & 9             & 8             & 14           \\\\\n",
       "\t HCC2911       & HCC2911       & GNE:586180    & X             & 8,13          & 12,13         & 11,13         & 15            & 0             & 30,32.2       & 0             & 17,18         & 11,12         & 8             & 12,14         & 21            & E             & 6,9.3         & 9,12          & 16,18        \\\\\n",
       "\t Hs 523.Sk     & Hs 523.Sk     & ATCC:CRL-7314 & X,Y           & 9,10          & 12,13         & 10,13         & 0             & 0             & 0             & 0             & 0             & 10,11         & 10,11         & 0             & 0             & 0             & 7,9.3         & 8,9           & 15,18        \\\\\n",
       "\t HCC78         & HCC78         & GNE:586319    & X,Y           & 11,12         & 8,12          & 11,13         & 12,16         & 0             & 29,30         & 0             & 16,17         & 11,12         & 9             & 13,14         & 21,22         & E             & 7,9.3         & 8,11          & 15,18        \\\\\n",
       "\\end{tabular}\n"
      ],
      "text/markdown": [
       "\n",
       "| cell.line | canonical_name | resource | Amelogenin | CSF1PO | D13S317 | D16S539 | D18S51 | D19S433 | D21S11 | D2S1338 | D3S1358 | D5S818 | D7S820 | D8S1179 | FGA | Penta | TH01 | TPOX | vWA |\n",
       "|---|---|---|---|---|---|---|---|---|---|---|---|---|---|---|---|---|---|---|---|\n",
       "| A-253         | A-253         | ATCC:CRL-7902 | X             | 12,13         | 9,12          | 12            | 0             | 0             | 0             | 0             | 0             | 11            | 10,12         | 0             | 0             | 0             | 6,8           | 8,12          | 16            |\n",
       "| NCI-BL2195    | NCI-BL2195    | ATCC:CRL-5956 | X,Y           | 11            | 11            | 10,14         | 0             | 0             | 0             | 0             | 0             | 11,12         | 10,11         | 0             | 0             | 0             | 9.3           | 8,9           | 17,18         |\n",
       "| LCL-WEI       | LCL-WEI       | DSM:ACC-218   | X,Y           | 10,11         | 11,12         | 13            | 0             | 0             | 0             | 0             | 0             | 11,13         | 12            | 0             | 0             | 0             | 9.3           | 8,10          | 17            |\n",
       "| Hs 212.M      | Hs 212.M      | ATCC:CRL-7173 | X,Y           | 11,12         | 12            | 11            | 0             | 0             | 0             | 0             | 0             | 13,15         | 8,11          | 0             | 0             | 0             | 6,9           | 11            | 16,18         |\n",
       "| QGP-1         | QGP-1         | JCRB:0183     | X             | 10,12         | 13            | 10,12         | 13            | 0             | 29            | 0             | 14,17         | 12            | 12            | 14            | 21,23         | E             | 6,9           | 8,11          | 14,17,18      |\n",
       "| HLC-1         | HLC-1         | RCB:0083      | X             | 7,12          | 8             | 9,12          | 0             | 0             | 0             | 0             | 0             | 9,10          | 11,13         | 0             | 0             | 0             | 7,9           | 12            | 16,17         |\n",
       "| PC-3          | PC-3          | JCRB:0077     | X             | 12,15         | 11,12         | 10            | 14,15         | 0             | 29,31.2       | 0             | 16            | 12            | 11,13         | 13            | 24            | E             | 9             | 8             | 14            |\n",
       "| HCC2911       | HCC2911       | GNE:586180    | X             | 8,13          | 12,13         | 11,13         | 15            | 0             | 30,32.2       | 0             | 17,18         | 11,12         | 8             | 12,14         | 21            | E             | 6,9.3         | 9,12          | 16,18         |\n",
       "| Hs 523.Sk     | Hs 523.Sk     | ATCC:CRL-7314 | X,Y           | 9,10          | 12,13         | 10,13         | 0             | 0             | 0             | 0             | 0             | 10,11         | 10,11         | 0             | 0             | 0             | 7,9.3         | 8,9           | 15,18         |\n",
       "| HCC78         | HCC78         | GNE:586319    | X,Y           | 11,12         | 8,12          | 11,13         | 12,16         | 0             | 29,30         | 0             | 16,17         | 11,12         | 9             | 13,14         | 21,22         | E             | 7,9.3         | 8,11          | 15,18         |\n",
       "\n"
      ],
      "text/plain": [
       "   cell.line  canonical_name resource      Amelogenin CSF1PO D13S317 D16S539\n",
       "1  A-253      A-253          ATCC:CRL-7902 X          12,13  9,12    12     \n",
       "2  NCI-BL2195 NCI-BL2195     ATCC:CRL-5956 X,Y        11     11      10,14  \n",
       "3  LCL-WEI    LCL-WEI        DSM:ACC-218   X,Y        10,11  11,12   13     \n",
       "4  Hs 212.M   Hs 212.M       ATCC:CRL-7173 X,Y        11,12  12      11     \n",
       "5  QGP-1      QGP-1          JCRB:0183     X          10,12  13      10,12  \n",
       "6  HLC-1      HLC-1          RCB:0083      X          7,12   8       9,12   \n",
       "7  PC-3       PC-3           JCRB:0077     X          12,15  11,12   10     \n",
       "8  HCC2911    HCC2911        GNE:586180    X          8,13   12,13   11,13  \n",
       "9  Hs 523.Sk  Hs 523.Sk      ATCC:CRL-7314 X,Y        9,10   12,13   10,13  \n",
       "10 HCC78      HCC78          GNE:586319    X,Y        11,12  8,12    11,13  \n",
       "   D18S51 D19S433 D21S11  D2S1338 D3S1358 D5S818 D7S820 D8S1179 FGA   Penta\n",
       "1  0      0       0       0       0       11     10,12  0       0     0    \n",
       "2  0      0       0       0       0       11,12  10,11  0       0     0    \n",
       "3  0      0       0       0       0       11,13  12     0       0     0    \n",
       "4  0      0       0       0       0       13,15  8,11   0       0     0    \n",
       "5  13     0       29      0       14,17   12     12     14      21,23 E    \n",
       "6  0      0       0       0       0       9,10   11,13  0       0     0    \n",
       "7  14,15  0       29,31.2 0       16      12     11,13  13      24    E    \n",
       "8  15     0       30,32.2 0       17,18   11,12  8      12,14   21    E    \n",
       "9  0      0       0       0       0       10,11  10,11  0       0     0    \n",
       "10 12,16  0       29,30   0       16,17   11,12  9      13,14   21,22 E    \n",
       "   TH01  TPOX vWA     \n",
       "1  6,8   8,12 16      \n",
       "2  9.3   8,9  17,18   \n",
       "3  9.3   8,10 17      \n",
       "4  6,9   11   16,18   \n",
       "5  6,9   8,11 14,17,18\n",
       "6  7,9   12   16,17   \n",
       "7  9     8    14      \n",
       "8  6,9.3 9,12 16,18   \n",
       "9  7,9.3 8,9  15,18   \n",
       "10 7,9.3 8,11 15,18   "
      ]
     },
     "metadata": {},
     "output_type": "display_data"
    }
   ],
   "source": [
    "cell_id  <- read.csv(\"cell_id.tab.txt\", sep =\"\\t\",\n",
    "                     header = TRUE, stringsAsFactors=FALSE)\n",
    "head(cell_id, 10)"
   ]
  },
  {
   "cell_type": "code",
   "execution_count": 4,
   "id": "568b95cb",
   "metadata": {},
   "outputs": [
    {
     "data": {
      "text/html": [
       "<ol class=list-inline>\n",
       "\t<li>1099</li>\n",
       "\t<li>3173</li>\n",
       "\t<li>5017</li>\n",
       "</ol>\n"
      ],
      "text/latex": [
       "\\begin{enumerate*}\n",
       "\\item 1099\n",
       "\\item 3173\n",
       "\\item 5017\n",
       "\\end{enumerate*}\n"
      ],
      "text/markdown": [
       "1. 1099\n",
       "2. 3173\n",
       "3. 5017\n",
       "\n",
       "\n"
      ],
      "text/plain": [
       "[1] 1099 3173 5017"
      ]
     },
     "metadata": {},
     "output_type": "display_data"
    },
    {
     "data": {
      "text/html": [
       "<table>\n",
       "<thead><tr><th></th><th scope=col>cell.line</th><th scope=col>canonical_name</th><th scope=col>resource</th><th scope=col>Amelogenin</th><th scope=col>CSF1PO</th><th scope=col>D13S317</th><th scope=col>D16S539</th><th scope=col>D18S51</th><th scope=col>D19S433</th><th scope=col>D21S11</th><th scope=col>D2S1338</th><th scope=col>D3S1358</th><th scope=col>D5S818</th><th scope=col>D7S820</th><th scope=col>D8S1179</th><th scope=col>FGA</th><th scope=col>Penta</th><th scope=col>TH01</th><th scope=col>TPOX</th><th scope=col>vWA</th></tr></thead>\n",
       "<tbody>\n",
       "\t<tr><th scope=row>1099</th><td>293T GNE      </td><td>293           </td><td>GNE:129641    </td><td>X             </td><td>11,12         </td><td>12            </td><td>9,13          </td><td>17,19         </td><td>0             </td><td>28,30.2       </td><td>0             </td><td>15,17         </td><td>8,9           </td><td>11,12         </td><td>11,12,14,15   </td><td>20,23         </td><td>E             </td><td>7,9.3         </td><td>11            </td><td>16,19         </td></tr>\n",
       "\t<tr><th scope=row>3173</th><td>293T/17       </td><td>293           </td><td>ATCC:CRL-11268</td><td>X             </td><td>11,12         </td><td>12,14         </td><td>9,13          </td><td>0             </td><td>0             </td><td>0             </td><td>0             </td><td>0             </td><td>8,9           </td><td>11            </td><td>0             </td><td>0             </td><td>0             </td><td>7,9.3         </td><td>11            </td><td>16,18,19      </td></tr>\n",
       "\t<tr><th scope=row>5017</th><td>293T          </td><td>293           </td><td>DSM:ACC-635   </td><td>X             </td><td>11,12         </td><td>12,14         </td><td>9,13          </td><td>0             </td><td>0             </td><td>0             </td><td>0             </td><td>0             </td><td>8,9           </td><td>11            </td><td>0             </td><td>0             </td><td>0             </td><td>7,9.3         </td><td>11            </td><td>16,19         </td></tr>\n",
       "</tbody>\n",
       "</table>\n"
      ],
      "text/latex": [
       "\\begin{tabular}{r|llllllllllllllllllll}\n",
       "  & cell.line & canonical\\_name & resource & Amelogenin & CSF1PO & D13S317 & D16S539 & D18S51 & D19S433 & D21S11 & D2S1338 & D3S1358 & D5S818 & D7S820 & D8S1179 & FGA & Penta & TH01 & TPOX & vWA\\\\\n",
       "\\hline\n",
       "\t1099 & 293T GNE       & 293            & GNE:129641     & X              & 11,12          & 12             & 9,13           & 17,19          & 0              & 28,30.2        & 0              & 15,17          & 8,9            & 11,12          & 11,12,14,15    & 20,23          & E              & 7,9.3          & 11             & 16,19         \\\\\n",
       "\t3173 & 293T/17        & 293            & ATCC:CRL-11268 & X              & 11,12          & 12,14          & 9,13           & 0              & 0              & 0              & 0              & 0              & 8,9            & 11             & 0              & 0              & 0              & 7,9.3          & 11             & 16,18,19      \\\\\n",
       "\t5017 & 293T           & 293            & DSM:ACC-635    & X              & 11,12          & 12,14          & 9,13           & 0              & 0              & 0              & 0              & 0              & 8,9            & 11             & 0              & 0              & 0              & 7,9.3          & 11             & 16,19         \\\\\n",
       "\\end{tabular}\n"
      ],
      "text/markdown": [
       "\n",
       "| <!--/--> | cell.line | canonical_name | resource | Amelogenin | CSF1PO | D13S317 | D16S539 | D18S51 | D19S433 | D21S11 | D2S1338 | D3S1358 | D5S818 | D7S820 | D8S1179 | FGA | Penta | TH01 | TPOX | vWA |\n",
       "|---|---|---|---|---|---|---|---|---|---|---|---|---|---|---|---|---|---|---|---|---|\n",
       "| 1099 | 293T GNE       | 293            | GNE:129641     | X              | 11,12          | 12             | 9,13           | 17,19          | 0              | 28,30.2        | 0              | 15,17          | 8,9            | 11,12          | 11,12,14,15    | 20,23          | E              | 7,9.3          | 11             | 16,19          |\n",
       "| 3173 | 293T/17        | 293            | ATCC:CRL-11268 | X              | 11,12          | 12,14          | 9,13           | 0              | 0              | 0              | 0              | 0              | 8,9            | 11             | 0              | 0              | 0              | 7,9.3          | 11             | 16,18,19       |\n",
       "| 5017 | 293T           | 293            | DSM:ACC-635    | X              | 11,12          | 12,14          | 9,13           | 0              | 0              | 0              | 0              | 0              | 8,9            | 11             | 0              | 0              | 0              | 7,9.3          | 11             | 16,19          |\n",
       "\n"
      ],
      "text/plain": [
       "     cell.line canonical_name resource       Amelogenin CSF1PO D13S317 D16S539\n",
       "1099 293T GNE  293            GNE:129641     X          11,12  12      9,13   \n",
       "3173 293T/17   293            ATCC:CRL-11268 X          11,12  12,14   9,13   \n",
       "5017 293T      293            DSM:ACC-635    X          11,12  12,14   9,13   \n",
       "     D18S51 D19S433 D21S11  D2S1338 D3S1358 D5S818 D7S820 D8S1179     FGA  \n",
       "1099 17,19  0       28,30.2 0       15,17   8,9    11,12  11,12,14,15 20,23\n",
       "3173 0      0       0       0       0       8,9    11     0           0    \n",
       "5017 0      0       0       0       0       8,9    11     0           0    \n",
       "     Penta TH01  TPOX vWA     \n",
       "1099 E     7,9.3 11   16,19   \n",
       "3173 0     7,9.3 11   16,18,19\n",
       "5017 0     7,9.3 11   16,19   "
      ]
     },
     "metadata": {},
     "output_type": "display_data"
    }
   ],
   "source": [
    "# number 1\n",
    "cell_df  <- data.frame(cell_id)\n",
    "#cell_df\n",
    "\n",
    "grep(\"293T\",cell_df[,1])\n",
    "\n",
    "three_rows  <-  cell_df[grep(\"293T\",cell_df[,1]),]\n",
    "\n",
    "three_rows\n",
    "\n",
    "# three cells have 293T in their name."
   ]
  },
  {
   "cell_type": "code",
   "execution_count": 88,
   "id": "c222fe4c",
   "metadata": {},
   "outputs": [],
   "source": [
    "?grep"
   ]
  },
  {
   "cell_type": "code",
   "execution_count": 6,
   "id": "6ead0dff",
   "metadata": {},
   "outputs": [
    {
     "data": {
      "text/html": [
       "'D16S539'"
      ],
      "text/latex": [
       "'D16S539'"
      ],
      "text/markdown": [
       "'D16S539'"
      ],
      "text/plain": [
       "[1] \"D16S539\""
      ]
     },
     "metadata": {},
     "output_type": "display_data"
    }
   ],
   "source": [
    "# numeber 2\n",
    "\n",
    "colnames(cell_df[7])\n",
    "# the name of the marker in column 7 is D16S539"
   ]
  },
  {
   "cell_type": "code",
   "execution_count": 110,
   "id": "a758e5a8",
   "metadata": {},
   "outputs": [
    {
     "data": {
      "text/html": [
       "'10,14'"
      ],
      "text/latex": [
       "'10,14'"
      ],
      "text/markdown": [
       "'10,14'"
      ],
      "text/plain": [
       "[1] \"10,14\""
      ]
     },
     "metadata": {},
     "output_type": "display_data"
    }
   ],
   "source": [
    "# number 3\n",
    "cell_df[2,7]\n",
    "\n",
    "#the entry for row 2 column 7 is 10,14 \n",
    "# i am not able to give the row a name so it is including that row\n",
    "# it says that there cannot be any dups in row names"
   ]
  },
  {
   "cell_type": "code",
   "execution_count": 117,
   "id": "911527db",
   "metadata": {},
   "outputs": [
    {
     "name": "stdout",
     "output_type": "stream",
     "text": [
      " chr [1:5181] \"9,12\" \"11\" \"11,12\" \"12\" \"13\" \"8\" \"11,12\" \"12,13\" \"12,13\" ...\n"
     ]
    }
   ],
   "source": [
    "str(cell_df$D13S317)\n",
    "\n"
   ]
  },
  {
   "cell_type": "code",
   "execution_count": 95,
   "id": "325fabf2",
   "metadata": {},
   "outputs": [
    {
     "data": {
      "text/html": [
       "77"
      ],
      "text/latex": [
       "77"
      ],
      "text/markdown": [
       "77"
      ],
      "text/plain": [
       "[1] 77"
      ]
     },
     "metadata": {},
     "output_type": "display_data"
    },
    {
     "data": {
      "text/html": [
       "<dl class=dl-horizontal>\n",
       "\t<dt>11</dt>\n",
       "\t\t<dd>12</dd>\n",
       "\t<dt>12</dt>\n",
       "\t\t<dd>26</dd>\n",
       "</dl>\n"
      ],
      "text/latex": [
       "\\begin{description*}\n",
       "\\item[11] 12\n",
       "\\item[12] 26\n",
       "\\end{description*}\n"
      ],
      "text/markdown": [
       "11\n",
       ":   1212\n",
       ":   26\n",
       "\n"
      ],
      "text/plain": [
       "11 12 \n",
       "12 26 "
      ]
     },
     "metadata": {},
     "output_type": "display_data"
    }
   ],
   "source": [
    "list_of_col <- (table(cell_df[,6]))\n",
    "#list_of_col\n",
    "length(list_of_col)\n",
    "which(list_of_col == max(list_of_col[2:77]))"
   ]
  },
  {
   "cell_type": "code",
   "execution_count": 97,
   "id": "6743ebc6",
   "metadata": {},
   "outputs": [
    {
     "data": {
      "text/html": [
       "<ol class=list-inline>\n",
       "\t<li>'cell.line'</li>\n",
       "\t<li>'canonical_name'</li>\n",
       "\t<li>'resource'</li>\n",
       "\t<li>'Amelogenin'</li>\n",
       "\t<li>'CSF1PO'</li>\n",
       "\t<li>'D13S317'</li>\n",
       "\t<li>'D16S539'</li>\n",
       "\t<li>'D18S51'</li>\n",
       "\t<li>'D19S433'</li>\n",
       "\t<li>'D21S11'</li>\n",
       "\t<li>'D2S1338'</li>\n",
       "\t<li>'D3S1358'</li>\n",
       "\t<li>'D5S818'</li>\n",
       "\t<li>'D7S820'</li>\n",
       "\t<li>'D8S1179'</li>\n",
       "\t<li>'FGA'</li>\n",
       "\t<li>'Penta'</li>\n",
       "\t<li>'TH01'</li>\n",
       "\t<li>'TPOX'</li>\n",
       "\t<li>'vWA'</li>\n",
       "</ol>\n"
      ],
      "text/latex": [
       "\\begin{enumerate*}\n",
       "\\item 'cell.line'\n",
       "\\item 'canonical\\_name'\n",
       "\\item 'resource'\n",
       "\\item 'Amelogenin'\n",
       "\\item 'CSF1PO'\n",
       "\\item 'D13S317'\n",
       "\\item 'D16S539'\n",
       "\\item 'D18S51'\n",
       "\\item 'D19S433'\n",
       "\\item 'D21S11'\n",
       "\\item 'D2S1338'\n",
       "\\item 'D3S1358'\n",
       "\\item 'D5S818'\n",
       "\\item 'D7S820'\n",
       "\\item 'D8S1179'\n",
       "\\item 'FGA'\n",
       "\\item 'Penta'\n",
       "\\item 'TH01'\n",
       "\\item 'TPOX'\n",
       "\\item 'vWA'\n",
       "\\end{enumerate*}\n"
      ],
      "text/markdown": [
       "1. 'cell.line'\n",
       "2. 'canonical_name'\n",
       "3. 'resource'\n",
       "4. 'Amelogenin'\n",
       "5. 'CSF1PO'\n",
       "6. 'D13S317'\n",
       "7. 'D16S539'\n",
       "8. 'D18S51'\n",
       "9. 'D19S433'\n",
       "10. 'D21S11'\n",
       "11. 'D2S1338'\n",
       "12. 'D3S1358'\n",
       "13. 'D5S818'\n",
       "14. 'D7S820'\n",
       "15. 'D8S1179'\n",
       "16. 'FGA'\n",
       "17. 'Penta'\n",
       "18. 'TH01'\n",
       "19. 'TPOX'\n",
       "20. 'vWA'\n",
       "\n",
       "\n"
      ],
      "text/plain": [
       " [1] \"cell.line\"      \"canonical_name\" \"resource\"       \"Amelogenin\"    \n",
       " [5] \"CSF1PO\"         \"D13S317\"        \"D16S539\"        \"D18S51\"        \n",
       " [9] \"D19S433\"        \"D21S11\"         \"D2S1338\"        \"D3S1358\"       \n",
       "[13] \"D5S818\"         \"D7S820\"         \"D8S1179\"        \"FGA\"           \n",
       "[17] \"Penta\"          \"TH01\"           \"TPOX\"           \"vWA\"           "
      ]
     },
     "metadata": {},
     "output_type": "display_data"
    },
    {
     "data": {
      "text/html": [
       "77"
      ],
      "text/latex": [
       "77"
      ],
      "text/markdown": [
       "77"
      ],
      "text/plain": [
       "[1] 77"
      ]
     },
     "metadata": {},
     "output_type": "display_data"
    },
    {
     "data": {
      "text/html": [
       "<dl class=dl-horizontal>\n",
       "\t<dt>11</dt>\n",
       "\t\t<dd>12</dd>\n",
       "\t<dt>12</dt>\n",
       "\t\t<dd>26</dd>\n",
       "</dl>\n"
      ],
      "text/latex": [
       "\\begin{description*}\n",
       "\\item[11] 12\n",
       "\\item[12] 26\n",
       "\\end{description*}\n"
      ],
      "text/markdown": [
       "11\n",
       ":   1212\n",
       ":   26\n",
       "\n"
      ],
      "text/plain": [
       "11 12 \n",
       "12 26 "
      ]
     },
     "metadata": {},
     "output_type": "display_data"
    }
   ],
   "source": [
    "# number 4\n",
    "colnames(cell_df)\n",
    "#which(cell_df[1,] == \"D13S317\")\n",
    "# I used this to find which coulmn number contained D13S317\n",
    "# that is column number 6\n",
    "list_of_col <- (table(cell_df[,6]))\n",
    "# i put all the entries in the table in list_of_col\n",
    "length(list_of_col)\n",
    "# then i got the length of this column so i can ignore the first \n",
    "# entry which would have been the max but it is just empty data\n",
    "which(list_of_col == max(list_of_col[2:77]))\n",
    "\n",
    "#next i looked for which entries equaled the max from the 2nd entry \n",
    "#to the last entry ignoring the first entry\n",
    "\n",
    "# looks like 11,12 is the most common entry"
   ]
  },
  {
   "cell_type": "code",
   "execution_count": 1,
   "id": "1d678341",
   "metadata": {},
   "outputs": [
    {
     "data": {
      "text/html": [
       "<ol class=list-inline>\n",
       "\t<li>68.2258227677972</li>\n",
       "\t<li>66.5282661653498</li>\n",
       "\t<li>65.6942935969472</li>\n",
       "\t<li>68.5934051359775</li>\n",
       "\t<li>66.9346504859662</li>\n",
       "\t<li>71.5711941575576</li>\n",
       "\t<li>65.5288565491606</li>\n",
       "\t<li>69.5520050948319</li>\n",
       "\t<li>65.3437055704396</li>\n",
       "\t<li>71.0777660029665</li>\n",
       "\t<li>70.8769871061978</li>\n",
       "\t<li>69.7900894179377</li>\n",
       "\t<li>66.3842319328963</li>\n",
       "\t<li>68.3132579294602</li>\n",
       "\t<li>66.5215365830075</li>\n",
       "\t<li>68.9040988533852</li>\n",
       "\t<li>66.3265967615466</li>\n",
       "\t<li>65.8560430168292</li>\n",
       "\t<li>66.577986705883</li>\n",
       "\t<li>68.3045359435121</li>\n",
       "\t<li>68.1151663027618</li>\n",
       "\t<li>70.2475311041381</li>\n",
       "\t<li>69.9900983879953</li>\n",
       "\t<li>62.4184339174809</li>\n",
       "\t<li>72.4169729175341</li>\n",
       "\t<li>67.3237143198475</li>\n",
       "\t<li>67.479777540048</li>\n",
       "\t<li>71.8069104245931</li>\n",
       "\t<li>69.1198877896665</li>\n",
       "\t<li>68.95308193894</li>\n",
       "</ol>\n"
      ],
      "text/latex": [
       "\\begin{enumerate*}\n",
       "\\item 68.2258227677972\n",
       "\\item 66.5282661653498\n",
       "\\item 65.6942935969472\n",
       "\\item 68.5934051359775\n",
       "\\item 66.9346504859662\n",
       "\\item 71.5711941575576\n",
       "\\item 65.5288565491606\n",
       "\\item 69.5520050948319\n",
       "\\item 65.3437055704396\n",
       "\\item 71.0777660029665\n",
       "\\item 70.8769871061978\n",
       "\\item 69.7900894179377\n",
       "\\item 66.3842319328963\n",
       "\\item 68.3132579294602\n",
       "\\item 66.5215365830075\n",
       "\\item 68.9040988533852\n",
       "\\item 66.3265967615466\n",
       "\\item 65.8560430168292\n",
       "\\item 66.577986705883\n",
       "\\item 68.3045359435121\n",
       "\\item 68.1151663027618\n",
       "\\item 70.2475311041381\n",
       "\\item 69.9900983879953\n",
       "\\item 62.4184339174809\n",
       "\\item 72.4169729175341\n",
       "\\item 67.3237143198475\n",
       "\\item 67.479777540048\n",
       "\\item 71.8069104245931\n",
       "\\item 69.1198877896665\n",
       "\\item 68.95308193894\n",
       "\\end{enumerate*}\n"
      ],
      "text/markdown": [
       "1. 68.2258227677972\n",
       "2. 66.5282661653498\n",
       "3. 65.6942935969472\n",
       "4. 68.5934051359775\n",
       "5. 66.9346504859662\n",
       "6. 71.5711941575576\n",
       "7. 65.5288565491606\n",
       "8. 69.5520050948319\n",
       "9. 65.3437055704396\n",
       "10. 71.0777660029665\n",
       "11. 70.8769871061978\n",
       "12. 69.7900894179377\n",
       "13. 66.3842319328963\n",
       "14. 68.3132579294602\n",
       "15. 66.5215365830075\n",
       "16. 68.9040988533852\n",
       "17. 66.3265967615466\n",
       "18. 65.8560430168292\n",
       "19. 66.577986705883\n",
       "20. 68.3045359435121\n",
       "21. 68.1151663027618\n",
       "22. 70.2475311041381\n",
       "23. 69.9900983879953\n",
       "24. 62.4184339174809\n",
       "25. 72.4169729175341\n",
       "26. 67.3237143198475\n",
       "27. 67.479777540048\n",
       "28. 71.8069104245931\n",
       "29. 69.1198877896665\n",
       "30. 68.95308193894\n",
       "\n",
       "\n"
      ],
      "text/plain": [
       " [1] 68.22582 66.52827 65.69429 68.59341 66.93465 71.57119 65.52886 69.55201\n",
       " [9] 65.34371 71.07777 70.87699 69.79009 66.38423 68.31326 66.52154 68.90410\n",
       "[17] 66.32660 65.85604 66.57799 68.30454 68.11517 70.24753 69.99010 62.41843\n",
       "[25] 72.41697 67.32371 67.47978 71.80691 69.11989 68.95308"
      ]
     },
     "metadata": {},
     "output_type": "display_data"
    },
    {
     "data": {
      "text/html": [
       "<ol class=list-inline>\n",
       "\t<li>64.0029827614456</li>\n",
       "\t<li>61.6219921069495</li>\n",
       "\t<li>62.6223371329449</li>\n",
       "\t<li>62.5900175545683</li>\n",
       "\t<li>57.2701470456334</li>\n",
       "\t<li>61.4339128514658</li>\n",
       "\t<li>64.705436895879</li>\n",
       "\t<li>63.957785121726</li>\n",
       "\t<li>65.5562572176743</li>\n",
       "\t<li>63.5354693614422</li>\n",
       "\t<li>59.9085446722934</li>\n",
       "\t<li>62.6152799119337</li>\n",
       "\t<li>64.3855202463768</li>\n",
       "\t<li>67.323647992768</li>\n",
       "\t<li>59.8050927800746</li>\n",
       "\t<li>64.9917135704149</li>\n",
       "\t<li>72.2647482777197</li>\n",
       "\t<li>63.6760971019316</li>\n",
       "\t<li>66.8244076938673</li>\n",
       "\t<li>61.3300191509739</li>\n",
       "\t<li>63.249252941493</li>\n",
       "\t<li>60.8583531423618</li>\n",
       "\t<li>64.1217766985751</li>\n",
       "\t<li>62.2665814965972</li>\n",
       "\t<li>62.7887475838338</li>\n",
       "\t<li>62.8945987905138</li>\n",
       "\t<li>67.4137501280062</li>\n",
       "\t<li>63.6254824860115</li>\n",
       "\t<li>58.1379227324002</li>\n",
       "\t<li>65.7806082972014</li>\n",
       "</ol>\n"
      ],
      "text/latex": [
       "\\begin{enumerate*}\n",
       "\\item 64.0029827614456\n",
       "\\item 61.6219921069495\n",
       "\\item 62.6223371329449\n",
       "\\item 62.5900175545683\n",
       "\\item 57.2701470456334\n",
       "\\item 61.4339128514658\n",
       "\\item 64.705436895879\n",
       "\\item 63.957785121726\n",
       "\\item 65.5562572176743\n",
       "\\item 63.5354693614422\n",
       "\\item 59.9085446722934\n",
       "\\item 62.6152799119337\n",
       "\\item 64.3855202463768\n",
       "\\item 67.323647992768\n",
       "\\item 59.8050927800746\n",
       "\\item 64.9917135704149\n",
       "\\item 72.2647482777197\n",
       "\\item 63.6760971019316\n",
       "\\item 66.8244076938673\n",
       "\\item 61.3300191509739\n",
       "\\item 63.249252941493\n",
       "\\item 60.8583531423618\n",
       "\\item 64.1217766985751\n",
       "\\item 62.2665814965972\n",
       "\\item 62.7887475838338\n",
       "\\item 62.8945987905138\n",
       "\\item 67.4137501280062\n",
       "\\item 63.6254824860115\n",
       "\\item 58.1379227324002\n",
       "\\item 65.7806082972014\n",
       "\\end{enumerate*}\n"
      ],
      "text/markdown": [
       "1. 64.0029827614456\n",
       "2. 61.6219921069495\n",
       "3. 62.6223371329449\n",
       "4. 62.5900175545683\n",
       "5. 57.2701470456334\n",
       "6. 61.4339128514658\n",
       "7. 64.705436895879\n",
       "8. 63.957785121726\n",
       "9. 65.5562572176743\n",
       "10. 63.5354693614422\n",
       "11. 59.9085446722934\n",
       "12. 62.6152799119337\n",
       "13. 64.3855202463768\n",
       "14. 67.323647992768\n",
       "15. 59.8050927800746\n",
       "16. 64.9917135704149\n",
       "17. 72.2647482777197\n",
       "18. 63.6760971019316\n",
       "19. 66.8244076938673\n",
       "20. 61.3300191509739\n",
       "21. 63.249252941493\n",
       "22. 60.8583531423618\n",
       "23. 64.1217766985751\n",
       "24. 62.2665814965972\n",
       "25. 62.7887475838338\n",
       "26. 62.8945987905138\n",
       "27. 67.4137501280062\n",
       "28. 63.6254824860115\n",
       "29. 58.1379227324002\n",
       "30. 65.7806082972014\n",
       "\n",
       "\n"
      ],
      "text/plain": [
       " [1] 64.00298 61.62199 62.62234 62.59002 57.27015 61.43391 64.70544 63.95779\n",
       " [9] 65.55626 63.53547 59.90854 62.61528 64.38552 67.32365 59.80509 64.99171\n",
       "[17] 72.26475 63.67610 66.82441 61.33002 63.24925 60.85835 64.12178 62.26658\n",
       "[25] 62.78875 62.89460 67.41375 63.62548 58.13792 65.78061"
      ]
     },
     "metadata": {},
     "output_type": "display_data"
    },
    {
     "data": {
      "text/plain": [
       "$jack.se\n",
       "[1] 0.4149976\n",
       "\n",
       "$jack.bias\n",
       "[1] -4.121148e-13\n",
       "\n",
       "$jack.values\n",
       " [1] 68.15693 68.21547 68.24423 68.14426 68.20146 68.04158 68.24993 68.11120\n",
       " [9] 68.25632 68.05859 68.06551 68.10299 68.22044 68.15392 68.21570 68.13355\n",
       "[17] 68.22242 68.23865 68.21376 68.15422 68.16075 68.08722 68.09610 68.35719\n",
       "[25] 68.01241 68.18804 68.18266 68.03345 68.12610 68.13186\n",
       "\n",
       "$call\n",
       "jackknife(x = male_randH, theta = mean)\n"
      ]
     },
     "metadata": {},
     "output_type": "display_data"
    },
    {
     "data": {
      "text/plain": [
       "$jack.se\n",
       "[1] 0.5367405\n",
       "\n",
       "$jack.bias\n",
       "[1] 0\n",
       "\n",
       "$jack.values\n",
       " [1] 63.36398 63.44609 63.41159 63.41271 63.59615 63.45257 63.33976 63.36554\n",
       " [9] 63.31042 63.38010 63.50517 63.41183 63.35079 63.24948 63.50874 63.32989\n",
       "[17] 63.07909 63.37525 63.26669 63.45615 63.38997 63.47242 63.35989 63.42386\n",
       "[25] 63.40585 63.40220 63.24637 63.37700 63.56623 63.30269\n",
       "\n",
       "$call\n",
       "jackknife(x = female_randH, theta = mean)\n"
      ]
     },
     "metadata": {},
     "output_type": "display_data"
    },
    {
     "data": {
      "text/html": [
       "<ol class=list-inline>\n",
       "\t<li>68.2258227677972</li>\n",
       "\t<li>66.5282661653498</li>\n",
       "\t<li>65.6942935969472</li>\n",
       "\t<li>68.5934051359775</li>\n",
       "\t<li>66.9346504859662</li>\n",
       "\t<li>71.5711941575576</li>\n",
       "\t<li>65.5288565491606</li>\n",
       "\t<li>69.5520050948319</li>\n",
       "\t<li>65.3437055704396</li>\n",
       "\t<li>71.0777660029665</li>\n",
       "\t<li>70.8769871061978</li>\n",
       "\t<li>69.7900894179377</li>\n",
       "\t<li>66.3842319328963</li>\n",
       "\t<li>68.3132579294602</li>\n",
       "\t<li>66.5215365830075</li>\n",
       "\t<li>68.9040988533852</li>\n",
       "\t<li>66.3265967615466</li>\n",
       "\t<li>65.8560430168292</li>\n",
       "\t<li>66.577986705883</li>\n",
       "\t<li>68.3045359435121</li>\n",
       "\t<li>68.1151663027618</li>\n",
       "\t<li>70.2475311041381</li>\n",
       "\t<li>69.9900983879953</li>\n",
       "\t<li>62.4184339174809</li>\n",
       "\t<li>72.4169729175341</li>\n",
       "\t<li>67.3237143198475</li>\n",
       "\t<li>67.479777540048</li>\n",
       "\t<li>71.8069104245931</li>\n",
       "\t<li>69.1198877896665</li>\n",
       "\t<li>68.95308193894</li>\n",
       "\t<li>64.0029827614456</li>\n",
       "\t<li>61.6219921069495</li>\n",
       "\t<li>62.6223371329449</li>\n",
       "\t<li>62.5900175545683</li>\n",
       "\t<li>57.2701470456334</li>\n",
       "\t<li>61.4339128514658</li>\n",
       "\t<li>64.705436895879</li>\n",
       "\t<li>63.957785121726</li>\n",
       "\t<li>65.5562572176743</li>\n",
       "\t<li>63.5354693614422</li>\n",
       "\t<li>59.9085446722934</li>\n",
       "\t<li>62.6152799119337</li>\n",
       "\t<li>64.3855202463768</li>\n",
       "\t<li>67.323647992768</li>\n",
       "\t<li>59.8050927800746</li>\n",
       "\t<li>64.9917135704149</li>\n",
       "\t<li>72.2647482777197</li>\n",
       "\t<li>63.6760971019316</li>\n",
       "\t<li>66.8244076938673</li>\n",
       "\t<li>61.3300191509739</li>\n",
       "\t<li>63.249252941493</li>\n",
       "\t<li>60.8583531423618</li>\n",
       "\t<li>64.1217766985751</li>\n",
       "\t<li>62.2665814965972</li>\n",
       "\t<li>62.7887475838338</li>\n",
       "\t<li>62.8945987905138</li>\n",
       "\t<li>67.4137501280062</li>\n",
       "\t<li>63.6254824860115</li>\n",
       "\t<li>58.1379227324002</li>\n",
       "\t<li>65.7806082972014</li>\n",
       "</ol>\n"
      ],
      "text/latex": [
       "\\begin{enumerate*}\n",
       "\\item 68.2258227677972\n",
       "\\item 66.5282661653498\n",
       "\\item 65.6942935969472\n",
       "\\item 68.5934051359775\n",
       "\\item 66.9346504859662\n",
       "\\item 71.5711941575576\n",
       "\\item 65.5288565491606\n",
       "\\item 69.5520050948319\n",
       "\\item 65.3437055704396\n",
       "\\item 71.0777660029665\n",
       "\\item 70.8769871061978\n",
       "\\item 69.7900894179377\n",
       "\\item 66.3842319328963\n",
       "\\item 68.3132579294602\n",
       "\\item 66.5215365830075\n",
       "\\item 68.9040988533852\n",
       "\\item 66.3265967615466\n",
       "\\item 65.8560430168292\n",
       "\\item 66.577986705883\n",
       "\\item 68.3045359435121\n",
       "\\item 68.1151663027618\n",
       "\\item 70.2475311041381\n",
       "\\item 69.9900983879953\n",
       "\\item 62.4184339174809\n",
       "\\item 72.4169729175341\n",
       "\\item 67.3237143198475\n",
       "\\item 67.479777540048\n",
       "\\item 71.8069104245931\n",
       "\\item 69.1198877896665\n",
       "\\item 68.95308193894\n",
       "\\item 64.0029827614456\n",
       "\\item 61.6219921069495\n",
       "\\item 62.6223371329449\n",
       "\\item 62.5900175545683\n",
       "\\item 57.2701470456334\n",
       "\\item 61.4339128514658\n",
       "\\item 64.705436895879\n",
       "\\item 63.957785121726\n",
       "\\item 65.5562572176743\n",
       "\\item 63.5354693614422\n",
       "\\item 59.9085446722934\n",
       "\\item 62.6152799119337\n",
       "\\item 64.3855202463768\n",
       "\\item 67.323647992768\n",
       "\\item 59.8050927800746\n",
       "\\item 64.9917135704149\n",
       "\\item 72.2647482777197\n",
       "\\item 63.6760971019316\n",
       "\\item 66.8244076938673\n",
       "\\item 61.3300191509739\n",
       "\\item 63.249252941493\n",
       "\\item 60.8583531423618\n",
       "\\item 64.1217766985751\n",
       "\\item 62.2665814965972\n",
       "\\item 62.7887475838338\n",
       "\\item 62.8945987905138\n",
       "\\item 67.4137501280062\n",
       "\\item 63.6254824860115\n",
       "\\item 58.1379227324002\n",
       "\\item 65.7806082972014\n",
       "\\end{enumerate*}\n"
      ],
      "text/markdown": [
       "1. 68.2258227677972\n",
       "2. 66.5282661653498\n",
       "3. 65.6942935969472\n",
       "4. 68.5934051359775\n",
       "5. 66.9346504859662\n",
       "6. 71.5711941575576\n",
       "7. 65.5288565491606\n",
       "8. 69.5520050948319\n",
       "9. 65.3437055704396\n",
       "10. 71.0777660029665\n",
       "11. 70.8769871061978\n",
       "12. 69.7900894179377\n",
       "13. 66.3842319328963\n",
       "14. 68.3132579294602\n",
       "15. 66.5215365830075\n",
       "16. 68.9040988533852\n",
       "17. 66.3265967615466\n",
       "18. 65.8560430168292\n",
       "19. 66.577986705883\n",
       "20. 68.3045359435121\n",
       "21. 68.1151663027618\n",
       "22. 70.2475311041381\n",
       "23. 69.9900983879953\n",
       "24. 62.4184339174809\n",
       "25. 72.4169729175341\n",
       "26. 67.3237143198475\n",
       "27. 67.479777540048\n",
       "28. 71.8069104245931\n",
       "29. 69.1198877896665\n",
       "30. 68.95308193894\n",
       "31. 64.0029827614456\n",
       "32. 61.6219921069495\n",
       "33. 62.6223371329449\n",
       "34. 62.5900175545683\n",
       "35. 57.2701470456334\n",
       "36. 61.4339128514658\n",
       "37. 64.705436895879\n",
       "38. 63.957785121726\n",
       "39. 65.5562572176743\n",
       "40. 63.5354693614422\n",
       "41. 59.9085446722934\n",
       "42. 62.6152799119337\n",
       "43. 64.3855202463768\n",
       "44. 67.323647992768\n",
       "45. 59.8050927800746\n",
       "46. 64.9917135704149\n",
       "47. 72.2647482777197\n",
       "48. 63.6760971019316\n",
       "49. 66.8244076938673\n",
       "50. 61.3300191509739\n",
       "51. 63.249252941493\n",
       "52. 60.8583531423618\n",
       "53. 64.1217766985751\n",
       "54. 62.2665814965972\n",
       "55. 62.7887475838338\n",
       "56. 62.8945987905138\n",
       "57. 67.4137501280062\n",
       "58. 63.6254824860115\n",
       "59. 58.1379227324002\n",
       "60. 65.7806082972014\n",
       "\n",
       "\n"
      ],
      "text/plain": [
       " [1] 68.22582 66.52827 65.69429 68.59341 66.93465 71.57119 65.52886 69.55201\n",
       " [9] 65.34371 71.07777 70.87699 69.79009 66.38423 68.31326 66.52154 68.90410\n",
       "[17] 66.32660 65.85604 66.57799 68.30454 68.11517 70.24753 69.99010 62.41843\n",
       "[25] 72.41697 67.32371 67.47978 71.80691 69.11989 68.95308 64.00298 61.62199\n",
       "[33] 62.62234 62.59002 57.27015 61.43391 64.70544 63.95779 65.55626 63.53547\n",
       "[41] 59.90854 62.61528 64.38552 67.32365 59.80509 64.99171 72.26475 63.67610\n",
       "[49] 66.82441 61.33002 63.24925 60.85835 64.12178 62.26658 62.78875 62.89460\n",
       "[57] 67.41375 63.62548 58.13792 65.78061"
      ]
     },
     "metadata": {},
     "output_type": "display_data"
    },
    {
     "data": {
      "text/plain": [
       "$jack.se\n",
       "[1] 0.457928\n",
       "\n",
       "$jack.bias\n",
       "[1] 0\n",
       "\n",
       "$jack.values\n",
       " [1] 65.73067 65.75944 65.77358 65.72444 65.75255 65.67397 65.77638 65.70819\n",
       " [9] 65.77952 65.68233 65.68574 65.70416 65.76188 65.72919 65.75956 65.71917\n",
       "[17] 65.76286 65.77084 65.75860 65.72934 65.73255 65.69640 65.70077 65.82910\n",
       "[25] 65.65963 65.74596 65.74332 65.66997 65.71552 65.71834 65.80224 65.84260\n",
       "[33] 65.82564 65.82619 65.91636 65.84579 65.79034 65.80301 65.77592 65.81017\n",
       "[41] 65.87164 65.82576 65.79576 65.74596 65.87339 65.78549 65.66221 65.80778\n",
       "[49] 65.75442 65.84755 65.81502 65.85554 65.80023 65.83167 65.82282 65.82103\n",
       "[57] 65.74443 65.80864 65.90165 65.77211\n",
       "\n",
       "$call\n",
       "jackknife(x = all_randH, theta = mean)\n"
      ]
     },
     "metadata": {},
     "output_type": "display_data"
    },
    {
     "data": {
      "text/plain": [
       "$jack.se\n",
       "[1] 1.344139\n",
       "\n",
       "$jack.bias\n",
       "[1] 0\n",
       "\n",
       "$jack.values\n",
       " [1] 5.351050 5.252937 5.126735 5.344250 5.295811 4.921110 5.095591 5.279546\n",
       " [9] 5.058338 5.036515 5.078325 5.252949 5.234812 5.350338 5.252124 5.330716\n",
       "[17] 5.227130 5.155229 5.258838 5.350434 5.351143 5.190094 5.227369 4.133601\n",
       "[25] 4.681447 5.325423 5.334158 4.859629 5.317118 5.327931\n",
       "\n",
       "$call\n",
       "jackknife(x = male_randH, theta = var)\n"
      ]
     },
     "metadata": {},
     "output_type": "display_data"
    },
    {
     "data": {
      "text/plain": [
       "$jack.se\n",
       "[1] 3.121682\n",
       "\n",
       "$jack.bias\n",
       "[1] 0\n",
       "\n",
       "$jack.values\n",
       " [1] 8.937284 8.836509 8.929875 8.928014 7.569796 8.810697 8.886991 8.939271\n",
       " [9] 8.777250 8.950547 8.504790 8.929475 8.914417 8.378324 8.477818 8.856037\n",
       "[17] 6.038391 8.948256 8.514401 8.795317 8.950697 8.715468 8.931340 8.905143\n",
       "[25] 8.938233 8.942485 8.351804 8.949249 7.934085 8.739401\n",
       "\n",
       "$call\n",
       "jackknife(x = female_randH, theta = var)\n"
      ]
     },
     "metadata": {},
     "output_type": "display_data"
    },
    {
     "data": {
      "text/plain": [
       "$jack.se\n",
       "[1] 2.041159\n",
       "\n",
       "$jack.bias\n",
       "[1] 0\n",
       "\n",
       "$jack.values\n",
       " [1] 12.69326 12.78879 12.79871 12.65927 12.77512 12.20920 12.79778 12.54832\n",
       " [9] 12.79559 12.30527 12.34192 12.51577 12.79225 12.68561 12.78897 12.62684\n",
       "[17] 12.79343 12.79869 12.78743 12.68638 12.70257 12.44765 12.48689 12.60159\n",
       "[25] 12.02467 12.75661 12.74769 12.16029 12.60232 12.62142 12.74393 12.49680\n",
       "[33] 12.62485 12.62126 11.53138 12.46881 12.77886 12.74109 12.79800 12.71109\n",
       "[41] 12.19595 12.62407 12.76510 12.75661 12.17449 12.78813 12.05973 12.72177\n",
       "[49] 12.77940 12.45282 12.68720 12.37544 12.75105 12.58333 12.64274 12.65362\n",
       "[57] 12.75157 12.71801 11.77690 12.79881\n",
       "\n",
       "$call\n",
       "jackknife(x = all_randH, theta = var)\n"
      ]
     },
     "metadata": {},
     "output_type": "display_data"
    }
   ],
   "source": [
    "# part 2 number 1a) \n",
    "library(bootstrap)\n",
    "wh  <- read.csv(\"weight-height.csv.gz\")\n",
    "#male_rand  <- head(wh,30)\n",
    "male_randH  <- sample(wh[1:5000,2],30, replace = FALSE)\n",
    "female_randH  <- sample(wh[5001:10000,2],30, replace = FALSE)\n",
    "\n",
    "male_randH \n",
    "# above is the output of 30 random male heights\n",
    "female_randH\n",
    "# above is the output of 30 random female heights\n",
    "\n",
    "\n",
    "jackknife(male_randH, mean)\n",
    "# above i used jackknife on the 30 male heights the results\n",
    "# jack.se is 0.4041738. this is the number for standard error\n",
    "# jack.bias is 0. this is the number for bias\n",
    "\n",
    "jackknife(female_randH, mean)\n",
    "# above i used jackknife on the 30 female heights the results are\n",
    "# jack.se is 0.6340315. this is the number for standard error\n",
    "# jack.bias is 0. this is the number for bias\n",
    "\n",
    "all_randH  <- append(male_randH,female_randH)\n",
    "all_randH\n",
    "\n",
    "jackknife(all_randH, mean)\n",
    "# above i used jackknife on the 60 total heights and the results are\n",
    "#jack.se is 0.4879608. this is the number for standard error\n",
    "#jack.bias is 0. this is the number for bias\n",
    "\n",
    "jackknife(male_randH, var)\n",
    "# above i used the jackknife to find the variance of the males\n",
    "\n",
    "jackknife(female_randH, var)\n",
    "\n",
    "# above i used jackkinfe to find the variance of the females\n",
    "\n",
    "jackknife(all_randH, var)\n",
    "# above i used jackknife to find the variance of all 60 random genders"
   ]
  },
  {
   "cell_type": "code",
   "execution_count": 41,
   "id": "658d8800",
   "metadata": {},
   "outputs": [
    {
     "name": "stdout",
     "output_type": "stream",
     "text": [
      "the estimated var for males are 8.636796\n",
      "the estimated mean for males are 68.92629\n",
      "the estimated var for females are 4.836335\n",
      "the estimated mean for females are 64.60345\n",
      "the estimated var for all are 16.06508\n",
      "the estimated mean for all are 66.32012"
     ]
    }
   ],
   "source": [
    "# part 2 number 1b)\n",
    "\n",
    "est_maleH_var  <- bootstrap(male_randH, 1, var, func = NULL)\n",
    "cat(\"the estimated var for males are\", est_maleH_var$thetastar)\n",
    "# the above shows the estimated variance for the 30 males heights\n",
    "\n",
    "est_maleH_mean <- bootstrap(male_randH, 1, mean, func =NULL)\n",
    "cat(\"\\nthe estimated mean for males are\",est_maleH_mean$thetastar)\n",
    "# the above shows the estimated mean for the 30 males heights\n",
    "\n",
    "est_femaleH_var <- bootstrap(female_randH, 1, var, func = NULL)\n",
    "cat(\"\\nthe estimated var for females are\", est_femaleH_var$thetastar)\n",
    "# the above shows the estimated var for 30 female heights\n",
    "\n",
    "est_femaleH_mean <- bootstrap(female_randH, 1, mean, func =NULL)\n",
    "cat(\"\\nthe estimated mean for females are\",est_femaleH_mean$thetastar)\n",
    "# the above shows the estimated mean for the 30 female heights\n",
    "\n",
    "\n",
    "allH_var <- bootstrap(all_randH, 1, var, func = NULL)\n",
    "cat(\"\\nthe estimated var for all are\",allH_var$thetastar)\n",
    "# the above shows the estimated var for all 60 heights\n",
    "\n",
    "allH_mean <- bootstrap(all_randH, 1, mean, func =NULL)\n",
    "cat(\"\\nthe estimated mean for all are\",allH_mean$thetastar)\n",
    "# the above shows the estimated mean for all 60 heights\n",
    "\n"
   ]
  },
  {
   "cell_type": "raw",
   "id": "7c2165b1",
   "metadata": {},
   "source": [
    "# part 2 number 1c) \n",
    " no the estimates may not change between 1000 and 10000 samplings in bootstrap. this is because having that much data in a single sample starts to resemble the entire popluation more accurately than just 30 or 60 samples done in the previous parts\n",
    " \n",
    "# part 2 number 1d)\n",
    "bootstrap is known to give different results everytime it is called. jackknife is better for interval estimation which is when you will have small original data, and bootstrap is better for skewed data."
   ]
  },
  {
   "cell_type": "code",
   "execution_count": 63,
   "id": "6d8622c7",
   "metadata": {},
   "outputs": [
    {
     "data": {
      "text/plain": [
       "$thetastar\n",
       "[1] 69.33522\n",
       "\n",
       "$func.thetastar\n",
       "NULL\n",
       "\n",
       "$jack.boot.val\n",
       "NULL\n",
       "\n",
       "$jack.boot.se\n",
       "NULL\n",
       "\n",
       "$call\n",
       "bootstrap(x = x, nboot = 1, theta = theta)\n"
      ]
     },
     "metadata": {},
     "output_type": "display_data"
    }
   ],
   "source": [
    "# part 2 number 2\n",
    "\n",
    "x  <- sample(wh[1:5000,2],30, replace = FALSE)\n",
    "# first i made my x variable the list of 30 random heights from men\n",
    "# without replacement\n",
    "\n",
    "theta  <- function(x){mean(x)}\n",
    "\n",
    "# then for my function i used mean and passed my x variable into it \n",
    "# to get the my theta\n",
    "bootstrap(x,1,theta)\n",
    "# lastly i used bootstrap to output only one mean of the sample data"
   ]
  },
  {
   "cell_type": "code",
   "execution_count": 119,
   "id": "d9bcf3cc",
   "metadata": {},
   "outputs": [
    {
     "data": {
      "text/html": [
       "0.0618967587034814"
      ],
      "text/latex": [
       "0.0618967587034814"
      ],
      "text/markdown": [
       "0.0618967587034814"
      ],
      "text/plain": [
       "[1] 0.06189676"
      ]
     },
     "metadata": {},
     "output_type": "display_data"
    }
   ],
   "source": [
    "# part 2 number 3\n",
    "\n",
    "without_r_H  <- sample(wh[,2],50, replace = FALSE)\n",
    "# the above gets a random sample of 50 people's heights \n",
    "# from the full dataset without replacement\n",
    "\n",
    "without_r_W  <- sample(wh[,3],50, replace =FALSE)\n",
    "# the above gets a random sample of 50 people's weights\n",
    "# from the full dataset without replacement\n",
    "\n",
    "cor(without_r_H,without_r_W, method=c(\"spearman\"))\n",
    "\n",
    "# the above uses the cor to find the correlation between \n",
    "# the two randomly selected variables height and weight"
   ]
  }
 ],
 "metadata": {
  "kernelspec": {
   "display_name": "Python 3 (ipykernel)",
   "language": "python",
   "name": "python3"
  },
  "language_info": {
   "codemirror_mode": {
    "name": "ipython",
    "version": 3
   },
   "file_extension": ".py",
   "mimetype": "text/x-python",
   "name": "python",
   "nbconvert_exporter": "python",
   "pygments_lexer": "ipython3",
   "version": "3.9.2"
  }
 },
 "nbformat": 4,
 "nbformat_minor": 5
}
