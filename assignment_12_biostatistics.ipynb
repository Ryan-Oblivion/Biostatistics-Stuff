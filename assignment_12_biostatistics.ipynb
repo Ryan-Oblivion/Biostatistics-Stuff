{
 "cells": [
  {
   "cell_type": "code",
   "execution_count": null,
   "id": "c91727d3",
   "metadata": {},
   "outputs": [],
   "source": [
    "# Ryan Johnson\n",
    "# netID: rj931\n",
    "# assingmnet 12 biostatistics"
   ]
  },
  {
   "cell_type": "code",
   "execution_count": 6,
   "id": "c5140174",
   "metadata": {
    "scrolled": true
   },
   "outputs": [
    {
     "data": {
      "text/html": [
       "28.1481481481481"
      ],
      "text/latex": [
       "28.1481481481481"
      ],
      "text/markdown": [
       "28.1481481481481"
      ],
      "text/plain": [
       "[1] 28.14815"
      ]
     },
     "metadata": {},
     "output_type": "display_data"
    },
    {
     "data": {
      "text/html": [
       "174.204053109713"
      ],
      "text/latex": [
       "174.204053109713"
      ],
      "text/markdown": [
       "174.204053109713"
      ],
      "text/plain": [
       "[1] 174.2041"
      ]
     },
     "metadata": {},
     "output_type": "display_data"
    },
    {
     "data": {
      "text/plain": [
       "\n",
       "Call:\n",
       "glm(formula = data$breaks ~ data$wool + data$tension, family = poisson(link = \"log\"), \n",
       "    data = data)\n",
       "\n",
       "Deviance Residuals: \n",
       "    Min       1Q   Median       3Q      Max  \n",
       "-3.6871  -1.6503  -0.4269   1.1902   4.2616  \n",
       "\n",
       "Coefficients:\n",
       "              Estimate Std. Error z value Pr(>|z|)    \n",
       "(Intercept)    3.69196    0.04541  81.302  < 2e-16 ***\n",
       "data$woolB    -0.20599    0.05157  -3.994 6.49e-05 ***\n",
       "data$tensionM -0.32132    0.06027  -5.332 9.73e-08 ***\n",
       "data$tensionH -0.51849    0.06396  -8.107 5.21e-16 ***\n",
       "---\n",
       "Signif. codes:  0 '***' 0.001 '**' 0.01 '*' 0.05 '.' 0.1 ' ' 1\n",
       "\n",
       "(Dispersion parameter for poisson family taken to be 1)\n",
       "\n",
       "    Null deviance: 297.37  on 53  degrees of freedom\n",
       "Residual deviance: 210.39  on 50  degrees of freedom\n",
       "AIC: 493.06\n",
       "\n",
       "Number of Fisher Scoring iterations: 4\n"
      ]
     },
     "metadata": {},
     "output_type": "display_data"
    },
    {
     "data": {
      "image/png": "[encoded data removed]",
      "text/plain": [
       "Plot with title \"Histogram of data$breaks\""
      ]
     },
     "metadata": {},
     "output_type": "display_data"
    }
   ],
   "source": [
    "# this is the work from the lecture video using poisson distribution\n",
    "# the next cell shows quasipoisson and explains why it would be best\n",
    "# when looking at this dataset\n",
    "\n",
    "data <- warpbreaks\n",
    "#data\n",
    "hist(data$breaks)\n",
    "mean(data$breaks)\n",
    "var(data$breaks)\n",
    "\n",
    "poisson.model <- glm(data$breaks~data$wool+data$tension,data,family=poisson(link='log'))\n",
    "#poisson.model\n",
    "summary(poisson.model)"
   ]
  },
  {
   "cell_type": "code",
   "execution_count": 3,
   "id": "c7ac1893",
   "metadata": {
    "scrolled": false
   },
   "outputs": [
    {
     "data": {
      "text/plain": [
       "\n",
       "Call:\n",
       "glm(formula = breaks ~ wool + tension, family = quasipoisson, \n",
       "    data = data)\n",
       "\n",
       "Deviance Residuals: \n",
       "    Min       1Q   Median       3Q      Max  \n",
       "-3.6871  -1.6503  -0.4269   1.1902   4.2616  \n",
       "\n",
       "Coefficients:\n",
       "            Estimate Std. Error t value Pr(>|t|)    \n",
       "(Intercept)  3.69196    0.09374  39.384  < 2e-16 ***\n",
       "woolB       -0.20599    0.10646  -1.935 0.058673 .  \n",
       "tensionM    -0.32132    0.12441  -2.583 0.012775 *  \n",
       "tensionH    -0.51849    0.13203  -3.927 0.000264 ***\n",
       "---\n",
       "Signif. codes:  0 '***' 0.001 '**' 0.01 '*' 0.05 '.' 0.1 ' ' 1\n",
       "\n",
       "(Dispersion parameter for quasipoisson family taken to be 4.261537)\n",
       "\n",
       "    Null deviance: 297.37  on 53  degrees of freedom\n",
       "Residual deviance: 210.39  on 50  degrees of freedom\n",
       "AIC: NA\n",
       "\n",
       "Number of Fisher Scoring iterations: 4\n"
      ]
     },
     "metadata": {},
     "output_type": "display_data"
    },
    {
     "data": {
      "text/html": [
       "<table>\n",
       "<thead><tr><th scope=col>wool</th><th scope=col>tension</th></tr></thead>\n",
       "<tbody>\n",
       "\t<tr><td>B</td><td>M</td></tr>\n",
       "</tbody>\n",
       "</table>\n"
      ],
      "text/latex": [
       "\\begin{tabular}{r|ll}\n",
       " wool & tension\\\\\n",
       "\\hline\n",
       "\t B & M\\\\\n",
       "\\end{tabular}\n"
      ],
      "text/markdown": [
       "\n",
       "| wool | tension |\n",
       "|---|---|\n",
       "| B | M |\n",
       "\n"
      ],
      "text/plain": [
       "  wool tension\n",
       "1 B    M      "
      ]
     },
     "metadata": {},
     "output_type": "display_data"
    },
    {
     "data": {
      "text/html": [
       "<strong>1:</strong> 23.6805555556308"
      ],
      "text/latex": [
       "\\textbf{1:} 23.6805555556308"
      ],
      "text/markdown": [
       "**1:** 23.6805555556308"
      ],
      "text/plain": [
       "       1 \n",
       "23.68056 "
      ]
     },
     "metadata": {},
     "output_type": "display_data"
    }
   ],
   "source": [
    "# answer to questions\n",
    "\n",
    "new_poisson.model <- glm(breaks~wool+tension,data,family=quasipoisson)\n",
    "#new_poisson.model\n",
    "summary(new_poisson.model)\n",
    "\n",
    "mydata <- data.frame(wool=\"B\",tension=\"M\")\n",
    "mydata\n",
    "predict(new_poisson.model,newdata=mydata,type=\"response\")\n",
    "\n",
    "# based on the results of using quasipoisson, I see that the dispersion parameter\n",
    "# for poisson family is taken to be 1, while the quasipoisson family is taken \n",
    "# to be 4.261\n",
    "# since the dispersion is over 1.10, when using quasipoisson, we can tell that\n",
    "# the data is overdispersed so quasipoisson would be best when predicting for\n",
    "# this dataset. \n",
    "# poisson always has the dispersion fixed to 1 because it is a likelihood model\n",
    "#  and not suited to dealing with overdispersion like a quasi-likelihood\n",
    "# based model which is quasipoisson."
   ]
  },
  {
   "cell_type": "code",
   "execution_count": 4,
   "id": "7af3b088",
   "metadata": {},
   "outputs": [
    {
     "name": "stderr",
     "output_type": "stream",
     "text": [
      "Warning message:\n",
      "\"package 'jtools' is not available (for R version 3.6.1)\""
     ]
    }
   ],
   "source": [
    "install.packages(\"jtools\")"
   ]
  },
  {
   "cell_type": "code",
   "execution_count": 31,
   "id": "e176889f",
   "metadata": {},
   "outputs": [
    {
     "name": "stderr",
     "output_type": "stream",
     "text": [
      "also installing the dependencies 'openssl', 'htmltools', 'processx', 'gert', 'gh', 'bslib', 'callr', 'waldo', 'usethis', 'cli', 'fs', 'lifecycle', 'pkgbuild', 'pkgdown', 'pkgload', 'rcmdcheck', 'rlang', 'roxygen2', 'sessioninfo', 'testthat'\n",
      "\n"
     ]
    },
    {
     "name": "stdout",
     "output_type": "stream",
     "text": [
      "\n",
      "  There are binary versions available but the source versions are later:\n",
      "             binary source needs_compilation\n",
      "openssl       1.4.4  2.0.4              TRUE\n",
      "htmltools   0.5.1.1  0.5.3              TRUE\n",
      "processx      3.5.2  3.8.0              TRUE\n",
      "gert          1.3.0  1.9.1              TRUE\n",
      "gh            1.3.0  1.3.1             FALSE\n",
      "bslib         0.2.4  0.4.1             FALSE\n",
      "callr         3.7.0  3.7.3             FALSE\n",
      "waldo         0.2.5  0.4.0             FALSE\n",
      "usethis       2.0.1  2.1.6             FALSE\n",
      "cli           2.5.0  3.4.1              TRUE\n",
      "fs            1.5.0  1.5.2              TRUE\n",
      "lifecycle     1.0.0  1.0.3             FALSE\n",
      "pkgbuild      1.2.0  1.4.0             FALSE\n",
      "pkgdown       1.6.1  2.0.6             FALSE\n",
      "pkgload       1.2.1  1.3.2             FALSE\n",
      "rcmdcheck     1.3.3  1.4.0             FALSE\n",
      "rlang        0.4.11  1.0.6              TRUE\n",
      "roxygen2      7.1.1  7.2.2              TRUE\n",
      "sessioninfo   1.1.1  1.2.2             FALSE\n",
      "testthat      3.0.2  3.1.5              TRUE\n",
      "devtools      2.4.1  2.4.5             FALSE\n",
      "\n",
      "  Binaries will be installed\n",
      "package 'openssl' successfully unpacked and MD5 sums checked\n",
      "package 'htmltools' successfully unpacked and MD5 sums checked\n",
      "package 'processx' successfully unpacked and MD5 sums checked\n",
      "package 'gert' successfully unpacked and MD5 sums checked\n",
      "package 'cli' successfully unpacked and MD5 sums checked\n",
      "package 'fs' successfully unpacked and MD5 sums checked\n",
      "package 'rlang' successfully unpacked and MD5 sums checked\n"
     ]
    },
    {
     "name": "stderr",
     "output_type": "stream",
     "text": [
      "Warning message:\n",
      "\"cannot remove prior installation of package 'rlang'\"Warning message in file.copy(savedcopy, lib, recursive = TRUE):\n",
      "\"problem copying C:\\Users\\Ryan J\\anaconda\\envs\\rlanguage\\Lib\\R\\library\\00LOCK\\rlang\\libs\\x64\\rlang.dll to C:\\Users\\Ryan J\\anaconda\\envs\\rlanguage\\Lib\\R\\library\\rlang\\libs\\x64\\rlang.dll: Permission denied\"Warning message:\n",
      "\"restored 'rlang'\""
     ]
    },
    {
     "name": "stdout",
     "output_type": "stream",
     "text": [
      "package 'roxygen2' successfully unpacked and MD5 sums checked\n",
      "package 'testthat' successfully unpacked and MD5 sums checked\n",
      "\n",
      "The downloaded binary packages are in\n",
      "\tC:\\Users\\Ryan J\\AppData\\Local\\Temp\\Rtmp0YomWB\\downloaded_packages\n"
     ]
    },
    {
     "name": "stderr",
     "output_type": "stream",
     "text": [
      "installing the source packages 'gh', 'bslib', 'callr', 'waldo', 'usethis', 'lifecycle', 'pkgbuild', 'pkgdown', 'pkgload', 'rcmdcheck', 'sessioninfo', 'devtools'\n",
      "\n",
      "Warning message in install.packages(\"devtools\"):\n",
      "\"installation of package 'gh' had non-zero exit status\"Warning message in install.packages(\"devtools\"):\n",
      "\"installation of package 'bslib' had non-zero exit status\"Warning message in install.packages(\"devtools\"):\n",
      "\"installation of package 'callr' had non-zero exit status\"Warning message in install.packages(\"devtools\"):\n",
      "\"installation of package 'waldo' had non-zero exit status\"Warning message in install.packages(\"devtools\"):\n",
      "\"installation of package 'lifecycle' had non-zero exit status\"Warning message in install.packages(\"devtools\"):\n",
      "\"installation of package 'pkgload' had non-zero exit status\"Warning message in install.packages(\"devtools\"):\n",
      "\"installation of package 'sessioninfo' had non-zero exit status\"Warning message in install.packages(\"devtools\"):\n",
      "\"installation of package 'usethis' had non-zero exit status\"Warning message in install.packages(\"devtools\"):\n",
      "\"installation of package 'pkgbuild' had non-zero exit status\"Warning message in install.packages(\"devtools\"):\n",
      "\"installation of package 'pkgdown' had non-zero exit status\"Warning message in install.packages(\"devtools\"):\n",
      "\"installation of package 'rcmdcheck' had non-zero exit status\"Warning message in install.packages(\"devtools\"):\n",
      "\"installation of package 'devtools' had non-zero exit status\""
     ]
    }
   ],
   "source": [
    "install.packages(\"devtools\")"
   ]
  },
  {
   "cell_type": "code",
   "execution_count": 1,
   "id": "5c91ed0d",
   "metadata": {},
   "outputs": [
    {
     "ename": "ERROR",
     "evalue": "Error in loadNamespace(name): there is no package called 'devtools'\n",
     "output_type": "error",
     "traceback": [
      "Error in loadNamespace(name): there is no package called 'devtools'\nTraceback:\n",
      "1. devtools::install_github",
      "2. getExportedValue(pkg, name)",
      "3. asNamespace(ns)",
      "4. getNamespace(ns)",
      "5. loadNamespace(name)",
      "6. withRestarts(stop(cond), retry_loadNamespace = function() NULL)",
      "7. withOneRestart(expr, restarts[[1L]])",
      "8. doWithOneRestart(return(expr), restart)"
     ]
    }
   ],
   "source": [
    "devtools::install_github(\"jacob-long/jtools\")\n",
    "\n",
    "# since i couldnt install jtools by itself i tried to install it from github\n",
    "# but that didnt work either so i am not able to plot the model variables to \n",
    "# check how different poisson is from quasipoisson"
   ]
  }
 ],
 "metadata": {
  "kernelspec": {
   "display_name": "R",
   "language": "R",
   "name": "ir"
  },
  "language_info": {
   "codemirror_mode": "r",
   "file_extension": ".r",
   "mimetype": "text/x-r-source",
   "name": "R",
   "pygments_lexer": "r",
   "version": "3.6.1"
  }
 },
 "nbformat": 4,
 "nbformat_minor": 5
}
