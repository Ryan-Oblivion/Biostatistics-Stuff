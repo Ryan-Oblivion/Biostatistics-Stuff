{
 "cells": [
  {
   "cell_type": "code",
   "execution_count": 8,
   "id": "72dde683",
   "metadata": {},
   "outputs": [],
   "source": [
    "# 1)\n",
    "# when using jupyter notebook, i am not able to uncompress the file first. this is because launching R locks me out of using commands like that\n",
    "# I have a separate version of the hw where i did this step in the command line then launched r after\n",
    "\n",
    "# 2)\n",
    "#here i opened the file using read.csv then passed the content to a data frame variable called 'wh'\n",
    "wh<-read.csv(\"weight-height.csv.gz\",header=TRUE)"
   ]
  },
  {
   "cell_type": "code",
   "execution_count": 9,
   "id": "9d2a6cf1",
   "metadata": {},
   "outputs": [
    {
     "data": {
      "text/html": [
       "<table>\n",
       "<thead><tr><th scope=col>Gender</th><th scope=col>Height</th><th scope=col>Weight</th></tr></thead>\n",
       "<tbody>\n",
       "\t<tr><td>Male    </td><td>73.84702</td><td>241.8936</td></tr>\n",
       "\t<tr><td>Male    </td><td>68.78190</td><td>162.3105</td></tr>\n",
       "\t<tr><td>Male    </td><td>74.11011</td><td>212.7409</td></tr>\n",
       "\t<tr><td>Male    </td><td>71.73098</td><td>220.0425</td></tr>\n",
       "\t<tr><td>Male    </td><td>69.88180</td><td>206.3498</td></tr>\n",
       "\t<tr><td>Male    </td><td>67.25302</td><td>152.2122</td></tr>\n",
       "\t<tr><td>Male    </td><td>68.78508</td><td>183.9279</td></tr>\n",
       "\t<tr><td>Male    </td><td>68.34852</td><td>167.9711</td></tr>\n",
       "\t<tr><td>Male    </td><td>67.01895</td><td>175.9294</td></tr>\n",
       "\t<tr><td>Male    </td><td>63.45649</td><td>156.3997</td></tr>\n",
       "\t<tr><td>Male    </td><td>71.19538</td><td>186.6049</td></tr>\n",
       "\t<tr><td>Male    </td><td>71.64081</td><td>213.7412</td></tr>\n",
       "\t<tr><td>Male    </td><td>64.76633</td><td>167.1275</td></tr>\n",
       "\t<tr><td>Male    </td><td>69.28307</td><td>189.4462</td></tr>\n",
       "\t<tr><td>Male    </td><td>69.24373</td><td>186.4342</td></tr>\n",
       "\t<tr><td>Male    </td><td>67.64562</td><td>172.1869</td></tr>\n",
       "\t<tr><td>Male    </td><td>72.41832</td><td>196.0285</td></tr>\n",
       "\t<tr><td>Male    </td><td>63.97433</td><td>172.8835</td></tr>\n",
       "\t<tr><td>Male    </td><td>69.64006</td><td>185.9840</td></tr>\n",
       "\t<tr><td>Male    </td><td>67.93600</td><td>182.4266</td></tr>\n",
       "\t<tr><td>Male    </td><td>67.91505</td><td>174.1159</td></tr>\n",
       "\t<tr><td>Male    </td><td>69.43944</td><td>197.7314</td></tr>\n",
       "\t<tr><td>Male    </td><td>66.14913</td><td>149.1736</td></tr>\n",
       "\t<tr><td>Male    </td><td>75.20597</td><td>228.7618</td></tr>\n",
       "\t<tr><td>Male    </td><td>67.89320</td><td>162.0067</td></tr>\n",
       "\t<tr><td>Male    </td><td>68.14403</td><td>192.3440</td></tr>\n",
       "\t<tr><td>Male    </td><td>69.08963</td><td>184.4352</td></tr>\n",
       "\t<tr><td>Male    </td><td>72.80084</td><td>206.8282</td></tr>\n",
       "\t<tr><td>Male    </td><td>67.42124</td><td>175.2139</td></tr>\n",
       "\t<tr><td>Male    </td><td>68.49642</td><td>154.3426</td></tr>\n",
       "\t<tr><td>...</td><td>...</td><td>...</td></tr>\n",
       "\t<tr><td>Female   </td><td>65.61874 </td><td>151.50039</td></tr>\n",
       "\t<tr><td>Female   </td><td>64.64025 </td><td>155.31830</td></tr>\n",
       "\t<tr><td>Female   </td><td>60.65373 </td><td>123.08429</td></tr>\n",
       "\t<tr><td>Female   </td><td>60.73703 </td><td>120.92650</td></tr>\n",
       "\t<tr><td>Female   </td><td>65.39395 </td><td>143.01784</td></tr>\n",
       "\t<tr><td>Female   </td><td>66.25192 </td><td>124.01992</td></tr>\n",
       "\t<tr><td>Female   </td><td>61.47590 </td><td>121.38724</td></tr>\n",
       "\t<tr><td>Female   </td><td>64.49484 </td><td>149.40255</td></tr>\n",
       "\t<tr><td>Female   </td><td>57.37576 </td><td>114.19221</td></tr>\n",
       "\t<tr><td>Female   </td><td>62.05601 </td><td>125.13590</td></tr>\n",
       "\t<tr><td>Female   </td><td>60.47226 </td><td>110.76823</td></tr>\n",
       "\t<tr><td>Female   </td><td>60.44326 </td><td>135.55939</td></tr>\n",
       "\t<tr><td>Female   </td><td>69.86851 </td><td>177.99207</td></tr>\n",
       "\t<tr><td>Female   </td><td>65.83073 </td><td>132.82789</td></tr>\n",
       "\t<tr><td>Female   </td><td>59.04703 </td><td>111.70737</td></tr>\n",
       "\t<tr><td>Female   </td><td>68.04107 </td><td>170.51421</td></tr>\n",
       "\t<tr><td>Female   </td><td>63.35270 </td><td>141.90651</td></tr>\n",
       "\t<tr><td>Female   </td><td>65.61024 </td><td>151.16948</td></tr>\n",
       "\t<tr><td>Female   </td><td>59.53873 </td><td>121.24488</td></tr>\n",
       "\t<tr><td>Female   </td><td>60.95508 </td><td> 95.68667</td></tr>\n",
       "\t<tr><td>Female   </td><td>63.17950 </td><td>141.26610</td></tr>\n",
       "\t<tr><td>Female   </td><td>62.63667 </td><td>102.85356</td></tr>\n",
       "\t<tr><td>Female   </td><td>62.07783 </td><td>138.69168</td></tr>\n",
       "\t<tr><td>Female   </td><td>60.03043 </td><td> 97.68743</td></tr>\n",
       "\t<tr><td>Female   </td><td>59.09825 </td><td>110.52969</td></tr>\n",
       "\t<tr><td>Female   </td><td>66.17265 </td><td>136.77745</td></tr>\n",
       "\t<tr><td>Female   </td><td>67.06715 </td><td>170.86791</td></tr>\n",
       "\t<tr><td>Female   </td><td>63.86799 </td><td>128.47532</td></tr>\n",
       "\t<tr><td>Female   </td><td>69.03424 </td><td>163.85246</td></tr>\n",
       "\t<tr><td>Female   </td><td>61.94425 </td><td>113.64910</td></tr>\n",
       "</tbody>\n",
       "</table>\n"
      ],
      "text/latex": [
       "\\begin{tabular}{r|lll}\n",
       " Gender & Height & Weight\\\\\n",
       "\\hline\n",
       "\t Male     & 73.84702 & 241.8936\\\\\n",
       "\t Male     & 68.78190 & 162.3105\\\\\n",
       "\t Male     & 74.11011 & 212.7409\\\\\n",
       "\t Male     & 71.73098 & 220.0425\\\\\n",
       "\t Male     & 69.88180 & 206.3498\\\\\n",
       "\t Male     & 67.25302 & 152.2122\\\\\n",
       "\t Male     & 68.78508 & 183.9279\\\\\n",
       "\t Male     & 68.34852 & 167.9711\\\\\n",
       "\t Male     & 67.01895 & 175.9294\\\\\n",
       "\t Male     & 63.45649 & 156.3997\\\\\n",
       "\t Male     & 71.19538 & 186.6049\\\\\n",
       "\t Male     & 71.64081 & 213.7412\\\\\n",
       "\t Male     & 64.76633 & 167.1275\\\\\n",
       "\t Male     & 69.28307 & 189.4462\\\\\n",
       "\t Male     & 69.24373 & 186.4342\\\\\n",
       "\t Male     & 67.64562 & 172.1869\\\\\n",
       "\t Male     & 72.41832 & 196.0285\\\\\n",
       "\t Male     & 63.97433 & 172.8835\\\\\n",
       "\t Male     & 69.64006 & 185.9840\\\\\n",
       "\t Male     & 67.93600 & 182.4266\\\\\n",
       "\t Male     & 67.91505 & 174.1159\\\\\n",
       "\t Male     & 69.43944 & 197.7314\\\\\n",
       "\t Male     & 66.14913 & 149.1736\\\\\n",
       "\t Male     & 75.20597 & 228.7618\\\\\n",
       "\t Male     & 67.89320 & 162.0067\\\\\n",
       "\t Male     & 68.14403 & 192.3440\\\\\n",
       "\t Male     & 69.08963 & 184.4352\\\\\n",
       "\t Male     & 72.80084 & 206.8282\\\\\n",
       "\t Male     & 67.42124 & 175.2139\\\\\n",
       "\t Male     & 68.49642 & 154.3426\\\\\n",
       "\t ... & ... & ...\\\\\n",
       "\t Female    & 65.61874  & 151.50039\\\\\n",
       "\t Female    & 64.64025  & 155.31830\\\\\n",
       "\t Female    & 60.65373  & 123.08429\\\\\n",
       "\t Female    & 60.73703  & 120.92650\\\\\n",
       "\t Female    & 65.39395  & 143.01784\\\\\n",
       "\t Female    & 66.25192  & 124.01992\\\\\n",
       "\t Female    & 61.47590  & 121.38724\\\\\n",
       "\t Female    & 64.49484  & 149.40255\\\\\n",
       "\t Female    & 57.37576  & 114.19221\\\\\n",
       "\t Female    & 62.05601  & 125.13590\\\\\n",
       "\t Female    & 60.47226  & 110.76823\\\\\n",
       "\t Female    & 60.44326  & 135.55939\\\\\n",
       "\t Female    & 69.86851  & 177.99207\\\\\n",
       "\t Female    & 65.83073  & 132.82789\\\\\n",
       "\t Female    & 59.04703  & 111.70737\\\\\n",
       "\t Female    & 68.04107  & 170.51421\\\\\n",
       "\t Female    & 63.35270  & 141.90651\\\\\n",
       "\t Female    & 65.61024  & 151.16948\\\\\n",
       "\t Female    & 59.53873  & 121.24488\\\\\n",
       "\t Female    & 60.95508  &  95.68667\\\\\n",
       "\t Female    & 63.17950  & 141.26610\\\\\n",
       "\t Female    & 62.63667  & 102.85356\\\\\n",
       "\t Female    & 62.07783  & 138.69168\\\\\n",
       "\t Female    & 60.03043  &  97.68743\\\\\n",
       "\t Female    & 59.09825  & 110.52969\\\\\n",
       "\t Female    & 66.17265  & 136.77745\\\\\n",
       "\t Female    & 67.06715  & 170.86791\\\\\n",
       "\t Female    & 63.86799  & 128.47532\\\\\n",
       "\t Female    & 69.03424  & 163.85246\\\\\n",
       "\t Female    & 61.94425  & 113.64910\\\\\n",
       "\\end{tabular}\n"
      ],
      "text/markdown": [
       "\n",
       "| Gender | Height | Weight |\n",
       "|---|---|---|\n",
       "| Male     | 73.84702 | 241.8936 |\n",
       "| Male     | 68.78190 | 162.3105 |\n",
       "| Male     | 74.11011 | 212.7409 |\n",
       "| Male     | 71.73098 | 220.0425 |\n",
       "| Male     | 69.88180 | 206.3498 |\n",
       "| Male     | 67.25302 | 152.2122 |\n",
       "| Male     | 68.78508 | 183.9279 |\n",
       "| Male     | 68.34852 | 167.9711 |\n",
       "| Male     | 67.01895 | 175.9294 |\n",
       "| Male     | 63.45649 | 156.3997 |\n",
       "| Male     | 71.19538 | 186.6049 |\n",
       "| Male     | 71.64081 | 213.7412 |\n",
       "| Male     | 64.76633 | 167.1275 |\n",
       "| Male     | 69.28307 | 189.4462 |\n",
       "| Male     | 69.24373 | 186.4342 |\n",
       "| Male     | 67.64562 | 172.1869 |\n",
       "| Male     | 72.41832 | 196.0285 |\n",
       "| Male     | 63.97433 | 172.8835 |\n",
       "| Male     | 69.64006 | 185.9840 |\n",
       "| Male     | 67.93600 | 182.4266 |\n",
       "| Male     | 67.91505 | 174.1159 |\n",
       "| Male     | 69.43944 | 197.7314 |\n",
       "| Male     | 66.14913 | 149.1736 |\n",
       "| Male     | 75.20597 | 228.7618 |\n",
       "| Male     | 67.89320 | 162.0067 |\n",
       "| Male     | 68.14403 | 192.3440 |\n",
       "| Male     | 69.08963 | 184.4352 |\n",
       "| Male     | 72.80084 | 206.8282 |\n",
       "| Male     | 67.42124 | 175.2139 |\n",
       "| Male     | 68.49642 | 154.3426 |\n",
       "| ... | ... | ... |\n",
       "| Female    | 65.61874  | 151.50039 |\n",
       "| Female    | 64.64025  | 155.31830 |\n",
       "| Female    | 60.65373  | 123.08429 |\n",
       "| Female    | 60.73703  | 120.92650 |\n",
       "| Female    | 65.39395  | 143.01784 |\n",
       "| Female    | 66.25192  | 124.01992 |\n",
       "| Female    | 61.47590  | 121.38724 |\n",
       "| Female    | 64.49484  | 149.40255 |\n",
       "| Female    | 57.37576  | 114.19221 |\n",
       "| Female    | 62.05601  | 125.13590 |\n",
       "| Female    | 60.47226  | 110.76823 |\n",
       "| Female    | 60.44326  | 135.55939 |\n",
       "| Female    | 69.86851  | 177.99207 |\n",
       "| Female    | 65.83073  | 132.82789 |\n",
       "| Female    | 59.04703  | 111.70737 |\n",
       "| Female    | 68.04107  | 170.51421 |\n",
       "| Female    | 63.35270  | 141.90651 |\n",
       "| Female    | 65.61024  | 151.16948 |\n",
       "| Female    | 59.53873  | 121.24488 |\n",
       "| Female    | 60.95508  |  95.68667 |\n",
       "| Female    | 63.17950  | 141.26610 |\n",
       "| Female    | 62.63667  | 102.85356 |\n",
       "| Female    | 62.07783  | 138.69168 |\n",
       "| Female    | 60.03043  |  97.68743 |\n",
       "| Female    | 59.09825  | 110.52969 |\n",
       "| Female    | 66.17265  | 136.77745 |\n",
       "| Female    | 67.06715  | 170.86791 |\n",
       "| Female    | 63.86799  | 128.47532 |\n",
       "| Female    | 69.03424  | 163.85246 |\n",
       "| Female    | 61.94425  | 113.64910 |\n",
       "\n"
      ],
      "text/plain": [
       "      Gender Height   Weight   \n",
       "1     Male   73.84702 241.8936 \n",
       "2     Male   68.78190 162.3105 \n",
       "3     Male   74.11011 212.7409 \n",
       "4     Male   71.73098 220.0425 \n",
       "5     Male   69.88180 206.3498 \n",
       "6     Male   67.25302 152.2122 \n",
       "7     Male   68.78508 183.9279 \n",
       "8     Male   68.34852 167.9711 \n",
       "9     Male   67.01895 175.9294 \n",
       "10    Male   63.45649 156.3997 \n",
       "11    Male   71.19538 186.6049 \n",
       "12    Male   71.64081 213.7412 \n",
       "13    Male   64.76633 167.1275 \n",
       "14    Male   69.28307 189.4462 \n",
       "15    Male   69.24373 186.4342 \n",
       "16    Male   67.64562 172.1869 \n",
       "17    Male   72.41832 196.0285 \n",
       "18    Male   63.97433 172.8835 \n",
       "19    Male   69.64006 185.9840 \n",
       "20    Male   67.93600 182.4266 \n",
       "21    Male   67.91505 174.1159 \n",
       "22    Male   69.43944 197.7314 \n",
       "23    Male   66.14913 149.1736 \n",
       "24    Male   75.20597 228.7618 \n",
       "25    Male   67.89320 162.0067 \n",
       "26    Male   68.14403 192.3440 \n",
       "27    Male   69.08963 184.4352 \n",
       "28    Male   72.80084 206.8282 \n",
       "29    Male   67.42124 175.2139 \n",
       "30    Male   68.49642 154.3426 \n",
       "...   ...    ...      ...      \n",
       "9971  Female 65.61874 151.50039\n",
       "9972  Female 64.64025 155.31830\n",
       "9973  Female 60.65373 123.08429\n",
       "9974  Female 60.73703 120.92650\n",
       "9975  Female 65.39395 143.01784\n",
       "9976  Female 66.25192 124.01992\n",
       "9977  Female 61.47590 121.38724\n",
       "9978  Female 64.49484 149.40255\n",
       "9979  Female 57.37576 114.19221\n",
       "9980  Female 62.05601 125.13590\n",
       "9981  Female 60.47226 110.76823\n",
       "9982  Female 60.44326 135.55939\n",
       "9983  Female 69.86851 177.99207\n",
       "9984  Female 65.83073 132.82789\n",
       "9985  Female 59.04703 111.70737\n",
       "9986  Female 68.04107 170.51421\n",
       "9987  Female 63.35270 141.90651\n",
       "9988  Female 65.61024 151.16948\n",
       "9989  Female 59.53873 121.24488\n",
       "9990  Female 60.95508  95.68667\n",
       "9991  Female 63.17950 141.26610\n",
       "9992  Female 62.63667 102.85356\n",
       "9993  Female 62.07783 138.69168\n",
       "9994  Female 60.03043  97.68743\n",
       "9995  Female 59.09825 110.52969\n",
       "9996  Female 66.17265 136.77745\n",
       "9997  Female 67.06715 170.86791\n",
       "9998  Female 63.86799 128.47532\n",
       "9999  Female 69.03424 163.85246\n",
       "10000 Female 61.94425 113.64910"
      ]
     },
     "metadata": {},
     "output_type": "display_data"
    }
   ],
   "source": [
    "wh  \n",
    "#showing how the file looks by calling the variable 'wh'"
   ]
  },
  {
   "cell_type": "code",
   "execution_count": 10,
   "id": "f7454712",
   "metadata": {},
   "outputs": [
    {
     "data": {
      "text/plain": [
       "    Gender         Height          Weight     \n",
       " Female:5000   Min.   :54.26   Min.   : 64.7  \n",
       " Male  :5000   1st Qu.:63.51   1st Qu.:135.8  \n",
       "               Median :66.32   Median :161.2  \n",
       "               Mean   :66.37   Mean   :161.4  \n",
       "               3rd Qu.:69.17   3rd Qu.:187.2  \n",
       "               Max.   :79.00   Max.   :270.0  "
      ]
     },
     "metadata": {},
     "output_type": "display_data"
    }
   ],
   "source": [
    "# 3)\n",
    "# in jupyter notebook the summary command makes this question #3 easy to answer\n",
    "# in the command line, 'summary(wh)' doesn't show the number of female and the number of males. it just says female and male without the number\n",
    "#I submitted another file showing what i had to do to get this information in the command line\n",
    "# there are 5k males and 5k females\n",
    "summary(wh)"
   ]
  },
  {
   "cell_type": "code",
   "execution_count": 16,
   "id": "da460275",
   "metadata": {},
   "outputs": [],
   "source": [
    "# 4)\n",
    "mheightE <- mean(wh[,2])  # this gets the mean height of everyone\n",
    "mweightE <- mean(wh[,3]) # this gets the mean weight of everyone\n",
    "sdheightE <- sd(wh[,2]) #this gets the standard deviation height of everyone\n",
    "sdweightE <- sd(wh[,3]) #this gets the standard deviation weight of everyone\n"
   ]
  },
  {
   "cell_type": "code",
   "execution_count": 19,
   "id": "ef7c7429",
   "metadata": {},
   "outputs": [
    {
     "data": {
      "text/html": [
       "66.37"
      ],
      "text/latex": [
       "66.37"
      ],
      "text/markdown": [
       "66.37"
      ],
      "text/plain": [
       "[1] 66.37"
      ]
     },
     "metadata": {},
     "output_type": "display_data"
    },
    {
     "data": {
      "text/html": [
       "161.44"
      ],
      "text/latex": [
       "161.44"
      ],
      "text/markdown": [
       "161.44"
      ],
      "text/plain": [
       "[1] 161.44"
      ]
     },
     "metadata": {},
     "output_type": "display_data"
    },
    {
     "data": {
      "text/html": [
       "3.85"
      ],
      "text/latex": [
       "3.85"
      ],
      "text/markdown": [
       "3.85"
      ],
      "text/plain": [
       "[1] 3.85"
      ]
     },
     "metadata": {},
     "output_type": "display_data"
    },
    {
     "data": {
      "text/html": [
       "32.11"
      ],
      "text/latex": [
       "32.11"
      ],
      "text/markdown": [
       "32.11"
      ],
      "text/plain": [
       "[1] 32.11"
      ]
     },
     "metadata": {},
     "output_type": "display_data"
    }
   ],
   "source": [
    "round(mheightE,2) \n",
    "round(mweightE,2)\n",
    "round(sdheightE,2)\n",
    "round(sdweightE,2)"
   ]
  },
  {
   "cell_type": "code",
   "execution_count": 23,
   "id": "3f148b7d",
   "metadata": {},
   "outputs": [],
   "source": [
    "male_wh <- wh[which(wh[,1]==\"Male\"),]; # this gets the data for only the male \n",
    "female_wh <-wh[which(wh[,1]==\"Female\"),]; # this gets the data for only the female "
   ]
  },
  {
   "cell_type": "code",
   "execution_count": 24,
   "id": "1e50a437",
   "metadata": {},
   "outputs": [],
   "source": [
    "mean_mheight <- mean(male_wh[,2]) # this shows the mean male height\n",
    "mean_mweight <- mean(male_wh[,3]) # this shows the mean male weight\n",
    "sd_mheight <- sd(male_wh[,2]) # this shows the standard deviation male height\n",
    "sd_mweight <- sd(male_wh[,3]) # this shows the standard deviation male weight"
   ]
  },
  {
   "cell_type": "code",
   "execution_count": 26,
   "id": "87c2bf43",
   "metadata": {},
   "outputs": [
    {
     "data": {
      "text/html": [
       "69.03"
      ],
      "text/latex": [
       "69.03"
      ],
      "text/markdown": [
       "69.03"
      ],
      "text/plain": [
       "[1] 69.03"
      ]
     },
     "metadata": {},
     "output_type": "display_data"
    },
    {
     "data": {
      "text/html": [
       "187.02"
      ],
      "text/latex": [
       "187.02"
      ],
      "text/markdown": [
       "187.02"
      ],
      "text/plain": [
       "[1] 187.02"
      ]
     },
     "metadata": {},
     "output_type": "display_data"
    },
    {
     "data": {
      "text/html": [
       "2.86"
      ],
      "text/latex": [
       "2.86"
      ],
      "text/markdown": [
       "2.86"
      ],
      "text/plain": [
       "[1] 2.86"
      ]
     },
     "metadata": {},
     "output_type": "display_data"
    },
    {
     "data": {
      "text/html": [
       "19.78"
      ],
      "text/latex": [
       "19.78"
      ],
      "text/markdown": [
       "19.78"
      ],
      "text/plain": [
       "[1] 19.78"
      ]
     },
     "metadata": {},
     "output_type": "display_data"
    }
   ],
   "source": [
    "round(mean_mheight,2) #this just calls the variables that contains the males data\n",
    "round(mean_mweight,2)\n",
    "round(sd_mheight,2)\n",
    "round(sd_mweight,2)"
   ]
  },
  {
   "cell_type": "code",
   "execution_count": 28,
   "id": "ba5bc2c3",
   "metadata": {},
   "outputs": [],
   "source": [
    "mean_fheight <- mean(female_wh[,2]) # this shows the mean female height\n",
    "mean_fweight <- mean(female_wh[,3]) # this shows the mean female weight\n",
    "sd_fheight <- sd(female_wh[,2]) # this shows the standard deviation female height\n",
    "sd_fweight <- sd(female_wh[,3]) # this shows the standard deviation female weight"
   ]
  },
  {
   "cell_type": "code",
   "execution_count": 29,
   "id": "80385bd3",
   "metadata": {},
   "outputs": [
    {
     "data": {
      "text/html": [
       "63.71"
      ],
      "text/latex": [
       "63.71"
      ],
      "text/markdown": [
       "63.71"
      ],
      "text/plain": [
       "[1] 63.71"
      ]
     },
     "metadata": {},
     "output_type": "display_data"
    },
    {
     "data": {
      "text/html": [
       "135.86"
      ],
      "text/latex": [
       "135.86"
      ],
      "text/markdown": [
       "135.86"
      ],
      "text/plain": [
       "[1] 135.86"
      ]
     },
     "metadata": {},
     "output_type": "display_data"
    },
    {
     "data": {
      "text/html": [
       "2.7"
      ],
      "text/latex": [
       "2.7"
      ],
      "text/markdown": [
       "2.7"
      ],
      "text/plain": [
       "[1] 2.7"
      ]
     },
     "metadata": {},
     "output_type": "display_data"
    },
    {
     "data": {
      "text/html": [
       "19.02"
      ],
      "text/latex": [
       "19.02"
      ],
      "text/markdown": [
       "19.02"
      ],
      "text/plain": [
       "[1] 19.02"
      ]
     },
     "metadata": {},
     "output_type": "display_data"
    }
   ],
   "source": [
    "round(mean_fheight,2)  # this just calld the variables that contains the females data\n",
    "round(mean_fweight,2)\n",
    "round(sd_fheight,2)\n",
    "round(sd_fweight,2)"
   ]
  },
  {
   "cell_type": "markdown",
   "id": "669003c4",
   "metadata": {},
   "source": [
    "# 5)\n",
    "the variability is greater for weight than it is for height. This is because weight is not determinate in someone’s genes and is not necessarily inherited. Height for people is determined by the population and the genetic diversity.  To find variability in something we can use CV which is coefficient of variability. So I will use the formula which is standard deviation divided by the average (sd/-x) to find the CV.\n",
    "To get the CV of everyone’s weight I used, CVweightE <- (sdweightE/mweightE) which is 0.1988873\n",
    "To get the CV of everyone’s height I used, CVheightE <- (sdheightE/mheightE) which is 0.05797302\n"
   ]
  },
  {
   "cell_type": "markdown",
   "id": "02ef589e",
   "metadata": {},
   "source": [
    "# 6) \n",
    "This shows that the higher variability is the weight, so this means weight is less consistent and you cant make accurate predictions. This also means that weight is more easily influenced."
   ]
  },
  {
   "cell_type": "markdown",
   "id": "d296663a",
   "metadata": {},
   "source": [
    "# 7) \n",
    "if we were to go back 50 years and compare the weight and height of that time to the weight and height of today, I would say that weight has changed the most. This is because more people today have access to higher nutritional foods and more of it also. Height is more dependent on the genes inherited, so unless drastic mating behavior changed where people went for taller or shorter counterparts I don’t see height changing much"
   ]
  },
  {
   "cell_type": "code",
   "execution_count": null,
   "id": "2504c40e",
   "metadata": {},
   "outputs": [],
   "source": []
  }
 ],
 "metadata": {
  "kernelspec": {
   "display_name": "R",
   "language": "R",
   "name": "ir"
  },
  "language_info": {
   "codemirror_mode": "r",
   "file_extension": ".r",
   "mimetype": "text/x-r-source",
   "name": "R",
   "pygments_lexer": "r",
   "version": "3.6.1"
  }
 },
 "nbformat": 4,
 "nbformat_minor": 5
}
