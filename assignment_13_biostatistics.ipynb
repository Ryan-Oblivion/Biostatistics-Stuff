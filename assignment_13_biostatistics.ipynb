{
 "cells": [
  {
   "cell_type": "code",
   "execution_count": null,
   "id": "778e3880",
   "metadata": {},
   "outputs": [],
   "source": [
    "# Ryan Johnson\n",
    "# netID: rj931\n",
    "# assignment 13 biostatistics"
   ]
  },
  {
   "cell_type": "code",
   "execution_count": 121,
   "id": "ff998f0f",
   "metadata": {},
   "outputs": [
    {
     "data": {
      "image/png": "[encoded data removed]",
      "text/plain": [
       "Plot with title \"raw.data\""
      ]
     },
     "metadata": {},
     "output_type": "display_data"
    }
   ],
   "source": [
    "raw_file <- read.csv(\"gundata.csv\")\n",
    "#raw_file\n",
    "\n",
    "# i imported the raw gundata into a variable called raw_file\n",
    "\n",
    "raw_data_df <- data.frame(raw_file[,c(1,2,5)], row.names =TRUE)\n",
    "#raw_data_df\n",
    "\n",
    "# next i took only the columns 1, 2 and 5 because they are the closest values to \n",
    "# what was exported to create the image found in the paper, and made a df\n",
    "\n",
    "plot(raw_data_df[,c(1,2)])\n",
    "title(\"raw.data\")\n",
    "# next i plotted the raw data df with x axis being homicide rate and y being\n",
    "# brady score\n",
    "\n",
    "\n",
    "\n",
    "\n",
    "\n"
   ]
  },
  {
   "cell_type": "code",
   "execution_count": 122,
   "id": "4d278f9d",
   "metadata": {},
   "outputs": [
    {
     "data": {
      "image/png": "[encoded data removed]",
      "text/plain": [
       "Plot with title \"extracted.data\""
      ]
     },
     "metadata": {},
     "output_type": "display_data"
    }
   ],
   "source": [
    "#cat(\"\\n\", file = \"data_extracted_from_graph.csv.xlsx\", append=TRUE)\n",
    "# this is to modify the file and add an extra line under the data that is empty\n",
    "# to avoid the error \"incomplete final line found by readTableHeader\"\n",
    "\n",
    "extrac_file <- read.csv(\"raw_data_extracted.txt\", sep = \"\" , header=FALSE)\n",
    "#extrac_file\n",
    "\n",
    "extrac_df <- data.frame(extrac_file)\n",
    "#extrac_df\n",
    "rounded_extrac_df <- round(extrac_df, 1)\n",
    "#rounded_extrac_df\n",
    "# i needed to bin the extracted data to the first decimal place so it is \n",
    "# comparable to that of the raw data used above\n",
    "\n",
    "plot((rounded_extrac_df), xlab = \"Homicide.rate\", ylab = \"Brady.score\")\n",
    "title(\"extracted.data\")\n",
    "# here i then plotted the extracted data and also gave the x and y axis\n",
    "# names comparable to the raw data above\n",
    "\n"
   ]
  },
  {
   "cell_type": "code",
   "execution_count": 41,
   "id": "74352d42",
   "metadata": {},
   "outputs": [],
   "source": [
    "# number 1 comparing the data\n",
    "# as you can see i was able to get the homicide rate and brady score columns \n",
    "# then plot them to show that those were the two columns being represented \n",
    "# in the extracted data\n",
    "# so now i can see from using the plot method that, the data given in the \n",
    "# graph and then extracted is the data from those two cloumns, homicide rates, \n",
    "# and brady score. so thats how i compared the two sets."
   ]
  },
  {
   "cell_type": "code",
   "execution_count": 91,
   "id": "4e1500f0",
   "metadata": {},
   "outputs": [
    {
     "data": {
      "text/html": [
       "0.027096406232886"
      ],
      "text/latex": [
       "0.027096406232886"
      ],
      "text/markdown": [
       "0.027096406232886"
      ],
      "text/plain": [
       "[1] 0.02709641"
      ]
     },
     "metadata": {},
     "output_type": "display_data"
    },
    {
     "data": {
      "text/html": [
       "0.0655106778785913"
      ],
      "text/latex": [
       "0.0655106778785913"
      ],
      "text/markdown": [
       "0.0655106778785913"
      ],
      "text/plain": [
       "[1] 0.06551068"
      ]
     },
     "metadata": {},
     "output_type": "display_data"
    },
    {
     "data": {
      "text/html": [
       "54"
      ],
      "text/latex": [
       "54"
      ],
      "text/markdown": [
       "54"
      ],
      "text/plain": [
       "[1] 54"
      ]
     },
     "metadata": {},
     "output_type": "display_data"
    },
    {
     "data": {
      "text/html": [
       "51"
      ],
      "text/latex": [
       "51"
      ],
      "text/markdown": [
       "51"
      ],
      "text/plain": [
       "[1] 51"
      ]
     },
     "metadata": {},
     "output_type": "display_data"
    }
   ],
   "source": [
    "# number 2 \n",
    "\n",
    "# analyze the data using pearson's method correlation\n",
    "cor(rounded_extrac_df[,1],rounded_extrac_df[,2], method =(\"pearson\"))\n",
    "# using cor on the rounded_extrac_df data, where x is homicide.rates and\n",
    "# y is brady.score.\n",
    "# the R here is 0.027 which is under the level of significance.\n",
    "# this means that we can consider this to be close to 0 or just 0\n",
    "# implying that homicide.rates are independent of gun control like the article\n",
    "# stated\n",
    "\n",
    "\n",
    "\n",
    "\n",
    "\n",
    "cor(raw_data_df[,1],raw_data_df[,2], method =(\"pearson\"))\n",
    "# also i noticed that the raw_data has a few less entries than the extracted\n",
    "# data. so this might impact why the R when using the raw data is slightly \n",
    "# higher at 0.0655\n",
    "\n",
    "length(rounded_extrac_df[,1])\n",
    "length(raw_data_df[,1])"
   ]
  },
  {
   "cell_type": "code",
   "execution_count": 156,
   "id": "439687c1",
   "metadata": {},
   "outputs": [
    {
     "data": {
      "text/html": [
       "0.155106284693131"
      ],
      "text/latex": [
       "0.155106284693131"
      ],
      "text/markdown": [
       "0.155106284693131"
      ],
      "text/plain": [
       "[1] 0.1551063"
      ]
     },
     "metadata": {},
     "output_type": "display_data"
    }
   ],
   "source": [
    "# number 3\n",
    "\n",
    "# analyze the data using distance correlation\n",
    "library(energy)\n",
    "\n",
    "\n",
    "\n",
    "dcor(rounded_extrac_df[,1],rounded_extrac_df[,2], index = 1.0)\n",
    "\n",
    "# using the energy library to get dcor, which is distance correlation \n",
    "# between the extracted data[,1](x) and the extracted data[,2](y).\n",
    "# we get a dcor(R) of 0.1551\n",
    "# from reading about dcor, R is only equal to 0 if x and y are independent\n",
    "# so since the R here is not equal to 0, then this shows that homicide rates\n",
    "# are dependent on brady score (gun control), meaning a correlation exists"
   ]
  },
  {
   "cell_type": "code",
   "execution_count": null,
   "id": "7214eaca",
   "metadata": {},
   "outputs": [],
   "source": [
    "# number 4 \n",
    "# the mistake the author made is not using distance correlation and just \n",
    "# ran with the first test the reinforced their bias"
   ]
  },
  {
   "cell_type": "code",
   "execution_count": 155,
   "id": "766b53a2",
   "metadata": {},
   "outputs": [
    {
     "data": {
      "image/png": "[encoded data removed]",
      "text/plain": [
       "plot without title"
      ]
     },
     "metadata": {},
     "output_type": "display_data"
    }
   ],
   "source": [
    "# number 5\n",
    "\n",
    "# i would fix the article by explaining to the reader how the differend\n",
    "# methods of correlation analysis can produce false conclusions regarding data\n",
    "# then provide a clear definition of when to use which correlaion methods\n",
    "\n",
    "\n",
    "Npar <- list(lab.cex = 0.8, pch = 20)\n",
    "#par(mar=c(5,5,5,5))\n",
    "plot(as.dendrogram(hclust(dist(raw_data_df))), nodePar = Npar)#, horiz = TRUE)\n",
    "\n",
    "# here i decided to cluster the dat based on distance and created a dendrogram\n",
    "# to show the clusters, from this we can see the states that are in the \n",
    "# similar situations based on gun laws and homicides. we can possibly \n",
    "# extrapolate on why it makes sense that these states are clustered the \n",
    "# way they are."
   ]
  },
  {
   "cell_type": "code",
   "execution_count": 143,
   "id": "437df4cd",
   "metadata": {},
   "outputs": [],
   "source": [
    "?par"
   ]
  }
 ],
 "metadata": {
  "kernelspec": {
   "display_name": "R",
   "language": "R",
   "name": "ir"
  },
  "language_info": {
   "codemirror_mode": "r",
   "file_extension": ".r",
   "mimetype": "text/x-r-source",
   "name": "R",
   "pygments_lexer": "r",
   "version": "3.6.1"
  }
 },
 "nbformat": 4,
 "nbformat_minor": 5
}
