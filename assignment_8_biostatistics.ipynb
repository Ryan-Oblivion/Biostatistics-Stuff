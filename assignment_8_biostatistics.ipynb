{
 "cells": [
  {
   "cell_type": "raw",
   "id": "706775a1",
   "metadata": {},
   "source": [
    "# Assignment 8\n",
    "# NetID: rj931\n",
    "# Ryan Johnson"
   ]
  },
  {
   "cell_type": "code",
   "execution_count": 11,
   "id": "d321f45d",
   "metadata": {},
   "outputs": [
    {
     "data": {
      "text/html": [
       "1000"
      ],
      "text/latex": [
       "1000"
      ],
      "text/markdown": [
       "1000"
      ],
      "text/plain": [
       "[1] 1000"
      ]
     },
     "metadata": {},
     "output_type": "display_data"
    },
    {
     "data": {
      "text/html": [
       "0.981171548117154"
      ],
      "text/latex": [
       "0.981171548117154"
      ],
      "text/markdown": [
       "0.981171548117154"
      ],
      "text/plain": [
       "[1] 0.9811715"
      ]
     },
     "metadata": {},
     "output_type": "display_data"
    },
    {
     "data": {
      "text/html": [
       "0.495248152059134"
      ],
      "text/latex": [
       "0.495248152059134"
      ],
      "text/markdown": [
       "0.495248152059134"
      ],
      "text/plain": [
       "[1] 0.4952482"
      ]
     },
     "metadata": {},
     "output_type": "display_data"
    }
   ],
   "source": [
    "#knowledge check 2\n",
    "\n",
    "pop <- 100000\n",
    "\n",
    "one_perc <- pop*.01\n",
    "one_perc\n",
    "\n",
    "false_neg <- .062\n",
    "false_pos <- .044\n",
    "\n",
    "sensitivity  <- .938\n",
    "specificity <- .956\n",
    "\n",
    "likeli_positive <- sensitivity/(1-specificity)\n",
    "\n",
    "pretest_odds_false_pos  <- .044/(1-.044)\n",
    "\n",
    "posttest_odds <- pretest_odds_false_pos*likeli_positive\n",
    "posttest_odds\n",
    "# the above is the posttest odds that i have the antibodies\n",
    "\n",
    "posttest_prob <- posttest_odds/(1+posttest_odds)\n",
    "posttest_prob\n",
    "# the above is the probability that i have the antibodies\n",
    "\n",
    "# this is the probability that the test was a false positive\n",
    "# 49% is the probability that it was a false positive posttest\n",
    "# so i think you should go out but wear a mask just to be on the safe side"
   ]
  },
  {
   "cell_type": "code",
   "execution_count": 12,
   "id": "a2475574",
   "metadata": {},
   "outputs": [
    {
     "data": {
      "text/html": [
       "0.247474747474747"
      ],
      "text/latex": [
       "0.247474747474747"
      ],
      "text/markdown": [
       "0.247474747474747"
      ],
      "text/plain": [
       "[1] 0.2474747"
      ]
     },
     "metadata": {},
     "output_type": "display_data"
    },
    {
     "data": {
      "text/html": [
       "0.198380566801619"
      ],
      "text/latex": [
       "0.198380566801619"
      ],
      "text/markdown": [
       "0.198380566801619"
      ],
      "text/plain": [
       "[1] 0.1983806"
      ]
     },
     "metadata": {},
     "output_type": "display_data"
    }
   ],
   "source": [
    "# assignment 8\n",
    "\n",
    "sensitivity  <- .98\n",
    "specificity  <- .96\n",
    "\n",
    "likeli_positive <- sensitivity/(1-specificity)\n",
    "\n",
    "pretest_odds  <- .01/(1-.01)\n",
    "\n",
    "posttest_odds <- pretest_odds*likeli_positive\n",
    "posttest_odds\n",
    "# the above is the posttest odds that i have the the disease\n",
    "\n",
    "posttest_prob <- posttest_odds/(1+posttest_odds)\n",
    "posttest_prob\n",
    "# the probability that the test is accurately showing who is positive for the\n",
    "# disease\n",
    "# since the posttest_prob is only 0.198 which is 19%, i would say no we cant \n",
    "# trust that the test is accurate\n",
    "\n",
    "# i would say a more acceptable percentage of the population would be 5% or 6%\n",
    "# or higher than those two\n",
    "# this is because in the cell below i used 4% as the pretest odds calculation\n",
    "# and the posttest probability turned out to be 50%. so anything above a \n",
    "# posttest of 50% would be in the more accurate range than not accurate\n",
    "# a population that is infected at a rate of 5% or more is more trustworthy"
   ]
  },
  {
   "cell_type": "code",
   "execution_count": 14,
   "id": "7759c219",
   "metadata": {},
   "outputs": [
    {
     "data": {
      "text/html": [
       "1.28947368421053"
      ],
      "text/latex": [
       "1.28947368421053"
      ],
      "text/markdown": [
       "1.28947368421053"
      ],
      "text/plain": [
       "[1] 1.289474"
      ]
     },
     "metadata": {},
     "output_type": "display_data"
    },
    {
     "data": {
      "text/html": [
       "0.563218390804597"
      ],
      "text/latex": [
       "0.563218390804597"
      ],
      "text/markdown": [
       "0.563218390804597"
      ],
      "text/plain": [
       "[1] 0.5632184"
      ]
     },
     "metadata": {},
     "output_type": "display_data"
    }
   ],
   "source": [
    "sensitivity  <- .98\n",
    "specificity  <- .96\n",
    "\n",
    "likeli_positive <- sensitivity/(1-specificity)\n",
    "# i used the lilelihood positive formula because we are looking at how many\n",
    "# in the population was infected (positive) for the disease\n",
    "\n",
    "pretest_odds  <- .04/(1-.04)\n",
    "# above i tested to see what 4% would be when calculating pretest odds\n",
    "\n",
    "posttest_odds <- pretest_odds*likeli_positive\n",
    "posttest_odds\n",
    "# the above is the posttest odds that i have the the disease\n",
    "\n",
    "posttest_prob <- posttest_odds/(1+posttest_odds)\n",
    "posttest_prob\n",
    "# the probability that the test is accurately showing who is positive for the\n",
    "# disease"
   ]
  }
 ],
 "metadata": {
  "kernelspec": {
   "display_name": "R",
   "language": "R",
   "name": "ir"
  },
  "language_info": {
   "codemirror_mode": "r",
   "file_extension": ".r",
   "mimetype": "text/x-r-source",
   "name": "R",
   "pygments_lexer": "r",
   "version": "3.6.1"
  }
 },
 "nbformat": 4,
 "nbformat_minor": 5
}
